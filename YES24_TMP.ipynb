{
 "cells": [
  {
   "cell_type": "code",
   "execution_count": 3,
   "metadata": {},
   "outputs": [],
   "source": [
    "import warnings\n",
    "warnings.filterwarnings(action='ignore')\n",
    "from selenium import webdriver\n",
    "import time"
   ]
  },
  {
   "cell_type": "code",
   "execution_count": 18,
   "metadata": {},
   "outputs": [],
   "source": [
    "## 로그인 ID/PW 기록 (일단 내 아이디)\n",
    "login_id = 'neck975'\n",
    "login_pw = 'wjdahr11'"
   ]
  },
  {
   "cell_type": "code",
   "execution_count": 5,
   "metadata": {},
   "outputs": [],
   "source": [
    "## Chrome Driver 경로 지정\n",
    "driverPath = r\"C:/Chromedriver/chromedriver.exe\" \n",
    "options = webdriver.ChromeOptions()\n",
    "options.add_experimental_option(\"excludeSwitches\", [\"enable-logging\"])\n",
    "driver = webdriver.Chrome(driverPath, options=options) \n",
    "driver.implicitly_wait(4)\n",
    "\n",
    "##yes24티켓 접속\n",
    "driver.get('http://ticket.yes24.com/') \n",
    "time.sleep(0.5)"
   ]
  },
  {
   "cell_type": "code",
   "execution_count": 15,
   "metadata": {},
   "outputs": [],
   "source": [
    "##콘서트 버튼 클릭\n",
    "driver.find_element_by_xpath(\"/html/body/form/div[6]/header/div[3]/h2[1]/a\").click()\n",
    "time.sleep(1)"
   ]
  },
  {
   "cell_type": "code",
   "execution_count": 16,
   "metadata": {},
   "outputs": [],
   "source": [
    "##로그인 버튼 클릭\n",
    "driver.find_element_by_xpath(\"/html/body/div[4]/div/div[2]/a[1]\").click()\n",
    "time.sleep(1)"
   ]
  },
  {
   "cell_type": "code",
   "execution_count": 20,
   "metadata": {},
   "outputs": [],
   "source": [
    "#ID/PW 입력 및 로그인\n",
    "driver.find_element_by_name('SMemberID').send_keys(login_id)\n",
    "time.sleep(1)\n",
    "driver.find_element_by_name('SMemberPassword').send_keys(login_pw)\n",
    "time.sleep(1)\n",
    "driver.find_element_by_xpath(\"/html/body/div[1]/div[2]/div/div[1]/div[2]/form/fieldset/button/span/em\").click()\n",
    "time.sleep(1)"
   ]
  },
  {
   "cell_type": "code",
   "execution_count": 27,
   "metadata": {},
   "outputs": [],
   "source": [
    "##테스트 페이지 이동(MANIAC)\n",
    "driver.get('http://ticket.yes24.com/Special/43134')"
   ]
  },
  {
   "cell_type": "code",
   "execution_count": 70,
   "metadata": {},
   "outputs": [
    {
     "name": "stdout",
     "output_type": "stream",
     "text": [
      "[http://ticket.yes24.com]의 서버시간\n",
      "2022년 08월 10일 12시 52분 22초\n"
     ]
    }
   ],
   "source": [
    "## ticket.yes24.com의 IP 211.237.15.170\n",
    "import urllib.request\n",
    "month = {'Jan':'01', 'Feb':'02', 'Mar':'03', 'Apr':'04', 'May':'05', 'Jun':'06', \\\n",
    "    'Jul':'07', 'Aug':'08', 'Sep':'09', 'Oct':'10', 'Nov':'11', 'Dec':'12'}\n",
    "\n",
    "url = 'http://ticket.yes24.com'\n",
    "date = urllib.request.urlopen(url).headers['Date'][5:-4]\n",
    "d, m, y, hour, min, sec = date[:2], month[date[3:6]], date[7:11], date[12:14], date[15:17], date[18:]\n",
    "print(f'[{url}]의 서버시간\\n{y}년 {m}월 {d}일 {hour}시 {min}분 {sec}초')"
   ]
  },
  {
   "cell_type": "code",
   "execution_count": 26,
   "metadata": {},
   "outputs": [],
   "source": [
    "driver.refresh()"
   ]
  },
  {
   "cell_type": "code",
   "execution_count": 31,
   "metadata": {},
   "outputs": [],
   "source": [
    "## 예매하기 버튼 클릭\n",
    "driver.find_element_by_xpath(\"/html/body/form/div[10]/div/div[4]/a[4]\").click()"
   ]
  }
 ],
 "metadata": {
  "kernelspec": {
   "display_name": "Python 3.9.12 ('base')",
   "language": "python",
   "name": "python3"
  },
  "language_info": {
   "codemirror_mode": {
    "name": "ipython",
    "version": 3
   },
   "file_extension": ".py",
   "mimetype": "text/x-python",
   "name": "python",
   "nbconvert_exporter": "python",
   "pygments_lexer": "ipython3",
   "version": "3.9.12"
  },
  "orig_nbformat": 4,
  "vscode": {
   "interpreter": {
    "hash": "45b08632729e76a5475d7e492a0162fb5eca32fe2f5a46ab4a6f1c89bc4509fa"
   }
  }
 },
 "nbformat": 4,
 "nbformat_minor": 2
}
