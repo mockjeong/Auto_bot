{
 "cells": [
  {
   "cell_type": "code",
   "execution_count": 1,
   "metadata": {},
   "outputs": [],
   "source": [
    "import warnings\n",
    "warnings.filterwarnings(action='ignore')\n",
    "import selenium\n",
    "from selenium import webdriver\n",
    "import time\n",
    "\n",
    "import urllib.request\n",
    "month = {'Jan':'01', 'Feb':'02', 'Mar':'03', 'Apr':'04', 'May':'05', 'Jun':'06', \n",
    "    'Jul':'07', 'Aug':'08', 'Sep':'09', 'Oct':'10', 'Nov':'11', 'Dec':'12'}"
   ]
  },
  {
   "cell_type": "code",
   "execution_count": 2,
   "metadata": {},
   "outputs": [],
   "source": [
    "## 로그인 ID/PW 기록 (일단 내 아이디)\n",
    "login_id = 'neck975'\n",
    "login_pw = 'wjdahr11'"
   ]
  },
  {
   "cell_type": "code",
   "execution_count": 3,
   "metadata": {},
   "outputs": [],
   "source": [
    "## Chrome Driver 경로 지정\n",
    "driverPath = r\"chromedriver.exe\" \n",
    "options = webdriver.ChromeOptions()\n",
    "options.add_experimental_option(\"excludeSwitches\", [\"enable-logging\"])\n",
    "driver = webdriver.Chrome(driverPath, options=options) \n",
    "driver.implicitly_wait(4)\n",
    "\n",
    "##yes24티켓 접속\n",
    "driver.get('http://ticket.yes24.com/') \n",
    "time.sleep(1)"
   ]
  },
  {
   "cell_type": "code",
   "execution_count": 4,
   "metadata": {},
   "outputs": [],
   "source": [
    "##콘서트 버튼 클릭\n",
    "driver.find_element(\"xpath\",\"/html/body/form/div[6]/header/div[3]/h2[1]/a\").click()\n",
    "time.sleep(1)\n",
    "##로그인 버튼 클릭\n",
    "driver.find_element(\"xpath\",\"/html/body/div[4]/div/div[2]/a[1]\").click()\n",
    "time.sleep(1)\n",
    "#ID/PW 입력 및 로그인\n",
    "driver.find_element(\"name\",'SMemberID').send_keys(login_id)\n",
    "time.sleep(1)\n",
    "driver.find_element(\"name\",'SMemberPassword').send_keys(login_pw)\n",
    "time.sleep(1)\n",
    "driver.find_element(\"xpath\",\"/html/body/div[1]/div[2]/div/div[1]/div[2]/form/fieldset/button/span/em\").click()\n",
    "time.sleep(1)"
   ]
  },
  {
   "cell_type": "code",
   "execution_count": 5,
   "metadata": {},
   "outputs": [],
   "source": [
    "##테스트 페이지 이동(장윤정)\n",
    "driver.get('http://ticket.yes24.com/Perf/43148')\n",
    "# driver.get('http://ticket.yes24.com/Perf/42569?Gcode=009_400')\n",
    "time.sleep(1)"
   ]
  },
  {
   "cell_type": "code",
   "execution_count": 7,
   "metadata": {},
   "outputs": [
    {
     "name": "stdout",
     "output_type": "stream",
     "text": [
      "최초 로그인 시간 : 8월 11일 15시 33분 9초\n",
      "현재 [http://ticket.yes24.com]의 서버시간 8월 11일 15시 33분 9초\n",
      "현재 [http://ticket.yes24.com]의 서버시간 8월 11일 15시 33분 9초\n",
      "현재 [http://ticket.yes24.com]의 서버시간 8월 11일 15시 33분 11초\n",
      "현재 [http://ticket.yes24.com]의 서버시간 8월 11일 15시 33분 11초\n",
      "현재 [http://ticket.yes24.com]의 서버시간 8월 11일 15시 33분 12초\n",
      "현재 [http://ticket.yes24.com]의 서버시간 8월 11일 15시 33분 12초\n",
      "현재 [http://ticket.yes24.com]의 서버시간 8월 11일 15시 33분 13초\n",
      "현재 [http://ticket.yes24.com]의 서버시간 8월 11일 15시 33분 13초\n",
      "현재 [http://ticket.yes24.com]의 서버시간 8월 11일 15시 33분 14초\n",
      "현재 [http://ticket.yes24.com]의 서버시간 8월 11일 15시 33분 14초\n",
      "현재 [http://ticket.yes24.com]의 서버시간 8월 11일 15시 33분 15초\n",
      "현재 [http://ticket.yes24.com]의 서버시간 8월 11일 15시 33분 15초\n",
      "현재 [http://ticket.yes24.com]의 서버시간 8월 11일 15시 33분 16초\n",
      "현재 [http://ticket.yes24.com]의 서버시간 8월 11일 15시 33분 16초\n",
      "현재 [http://ticket.yes24.com]의 서버시간 8월 11일 15시 33분 17초\n",
      "현재 [http://ticket.yes24.com]의 서버시간 8월 11일 15시 33분 17초\n",
      "현재 [http://ticket.yes24.com]의 서버시간 8월 11일 15시 33분 18초\n",
      "현재 [http://ticket.yes24.com]의 서버시간 8월 11일 15시 33분 18초\n",
      "현재 [http://ticket.yes24.com]의 서버시간 8월 11일 15시 33분 19초\n",
      "현재 [http://ticket.yes24.com]의 서버시간 8월 11일 15시 33분 19초\n",
      "현재 [http://ticket.yes24.com]의 서버시간 8월 11일 15시 33분 20초\n",
      "현재 [http://ticket.yes24.com]의 서버시간 8월 11일 15시 33분 21초\n",
      "현재 [http://ticket.yes24.com]의 서버시간 8월 11일 15시 33분 21초\n",
      "현재 [http://ticket.yes24.com]의 서버시간 8월 11일 15시 33분 22초\n",
      "현재 [http://ticket.yes24.com]의 서버시간 8월 11일 15시 33분 22초\n",
      "현재 [http://ticket.yes24.com]의 서버시간 8월 11일 15시 33분 23초\n",
      "현재 [http://ticket.yes24.com]의 서버시간 8월 11일 15시 33분 23초\n",
      "현재 [http://ticket.yes24.com]의 서버시간 8월 11일 15시 33분 24초\n",
      "현재 [http://ticket.yes24.com]의 서버시간 8월 11일 15시 33분 24초\n",
      "현재 [http://ticket.yes24.com]의 서버시간 8월 11일 15시 33분 25초\n",
      "현재 [http://ticket.yes24.com]의 서버시간 8월 11일 15시 33분 25초\n",
      "현재 [http://ticket.yes24.com]의 서버시간 8월 11일 15시 33분 26초\n",
      "현재 [http://ticket.yes24.com]의 서버시간 8월 11일 15시 33분 27초\n",
      "현재 [http://ticket.yes24.com]의 서버시간 8월 11일 15시 33분 27초\n",
      "현재 [http://ticket.yes24.com]의 서버시간 8월 11일 15시 33분 28초\n",
      "현재 [http://ticket.yes24.com]의 서버시간 8월 11일 15시 33분 28초\n",
      "현재 [http://ticket.yes24.com]의 서버시간 8월 11일 15시 33분 29초\n",
      "현재 [http://ticket.yes24.com]의 서버시간 8월 11일 15시 33분 29초\n",
      "현재 [http://ticket.yes24.com]의 서버시간 8월 11일 15시 33분 30초\n",
      "현재 [http://ticket.yes24.com]의 서버시간 8월 11일 15시 33분 30초\n",
      "현재 [http://ticket.yes24.com]의 서버시간 8월 11일 15시 33분 31초\n",
      "현재 [http://ticket.yes24.com]의 서버시간 8월 11일 15시 33분 31초\n",
      "현재 [http://ticket.yes24.com]의 서버시간 8월 11일 15시 33분 32초\n",
      "현재 [http://ticket.yes24.com]의 서버시간 8월 11일 15시 33분 32초\n",
      "현재 [http://ticket.yes24.com]의 서버시간 8월 11일 15시 33분 33초\n",
      "현재 [http://ticket.yes24.com]의 서버시간 8월 11일 15시 33분 33초\n",
      "현재 [http://ticket.yes24.com]의 서버시간 8월 11일 15시 33분 34초\n",
      "현재 [http://ticket.yes24.com]의 서버시간 8월 11일 15시 33분 34초\n",
      "현재 [http://ticket.yes24.com]의 서버시간 8월 11일 15시 33분 35초\n",
      "현재 [http://ticket.yes24.com]의 서버시간 8월 11일 15시 33분 35초\n",
      "현재 [http://ticket.yes24.com]의 서버시간 8월 11일 15시 33분 36초\n",
      "현재 [http://ticket.yes24.com]의 서버시간 8월 11일 15시 33분 36초\n",
      "현재 [http://ticket.yes24.com]의 서버시간 8월 11일 15시 33분 37초\n",
      "현재 [http://ticket.yes24.com]의 서버시간 8월 11일 15시 33분 38초\n",
      "현재 [http://ticket.yes24.com]의 서버시간 8월 11일 15시 33분 38초\n",
      "현재 [http://ticket.yes24.com]의 서버시간 8월 11일 15시 33분 39초\n",
      "현재 [http://ticket.yes24.com]의 서버시간 8월 11일 15시 33분 39초\n",
      "현재 [http://ticket.yes24.com]의 서버시간 8월 11일 15시 33분 40초\n",
      "현재 [http://ticket.yes24.com]의 서버시간 8월 11일 15시 33분 40초\n",
      "현재 [http://ticket.yes24.com]의 서버시간 8월 11일 15시 33분 41초\n",
      "현재 [http://ticket.yes24.com]의 서버시간 8월 11일 15시 33분 41초\n",
      "현재 [http://ticket.yes24.com]의 서버시간 8월 11일 15시 33분 42초\n",
      "현재 [http://ticket.yes24.com]의 서버시간 8월 11일 15시 33분 42초\n",
      "현재 [http://ticket.yes24.com]의 서버시간 8월 11일 15시 33분 43초\n",
      "현재 [http://ticket.yes24.com]의 서버시간 8월 11일 15시 33분 43초\n",
      "현재 [http://ticket.yes24.com]의 서버시간 8월 11일 15시 33분 44초\n",
      "현재 [http://ticket.yes24.com]의 서버시간 8월 11일 15시 33분 44초\n",
      "현재 [http://ticket.yes24.com]의 서버시간 8월 11일 15시 33분 45초\n",
      "현재 [http://ticket.yes24.com]의 서버시간 8월 11일 15시 33분 45초\n",
      "현재 [http://ticket.yes24.com]의 서버시간 8월 11일 15시 33분 46초\n",
      "현재 [http://ticket.yes24.com]의 서버시간 8월 11일 15시 33분 46초\n",
      "현재 [http://ticket.yes24.com]의 서버시간 8월 11일 15시 33분 47초\n",
      "현재 [http://ticket.yes24.com]의 서버시간 8월 11일 15시 33분 47초\n",
      "현재 [http://ticket.yes24.com]의 서버시간 8월 11일 15시 33분 48초\n",
      "현재 [http://ticket.yes24.com]의 서버시간 8월 11일 15시 33분 48초\n",
      "현재 [http://ticket.yes24.com]의 서버시간 8월 11일 15시 33분 49초\n",
      "현재 [http://ticket.yes24.com]의 서버시간 8월 11일 15시 33분 50초\n",
      "현재 [http://ticket.yes24.com]의 서버시간 8월 11일 15시 33분 50초\n",
      "현재 [http://ticket.yes24.com]의 서버시간 8월 11일 15시 33분 51초\n",
      "현재 [http://ticket.yes24.com]의 서버시간 8월 11일 15시 33분 51초\n",
      "현재 [http://ticket.yes24.com]의 서버시간 8월 11일 15시 33분 52초\n",
      "현재 [http://ticket.yes24.com]의 서버시간 8월 11일 15시 33분 52초\n",
      "현재 [http://ticket.yes24.com]의 서버시간 8월 11일 15시 33분 53초\n",
      "현재 [http://ticket.yes24.com]의 서버시간 8월 11일 15시 33분 53초\n",
      "현재 [http://ticket.yes24.com]의 서버시간 8월 11일 15시 33분 54초\n",
      "현재 [http://ticket.yes24.com]의 서버시간 8월 11일 15시 33분 54초\n",
      "현재 [http://ticket.yes24.com]의 서버시간 8월 11일 15시 33분 55초\n",
      "현재 [http://ticket.yes24.com]의 서버시간 8월 11일 15시 33분 55초\n",
      "현재 [http://ticket.yes24.com]의 서버시간 8월 11일 15시 33분 56초\n",
      "현재 [http://ticket.yes24.com]의 서버시간 8월 11일 15시 33분 56초\n",
      "현재 [http://ticket.yes24.com]의 서버시간 8월 11일 15시 33분 57초\n",
      "현재 [http://ticket.yes24.com]의 서버시간 8월 11일 15시 33분 58초\n",
      "현재 [http://ticket.yes24.com]의 서버시간 8월 11일 15시 33분 58초\n",
      "현재 [http://ticket.yes24.com]의 서버시간 8월 11일 15시 33분 59초\n",
      "클릭시간 : 8월 11일 15시 34분 1초\n"
     ]
    }
   ],
   "source": [
    "target_mon = 8\n",
    "target_day = 11\n",
    "target_hour = 15\n",
    "target_min = 33\n",
    "target_sec = 59\n",
    "progress = 0\n",
    "\n",
    "## 최초 로그인 시간 확인\n",
    "url = 'http://ticket.yes24.com'\n",
    "date = urllib.request.urlopen(url).headers['Date'][5:-4]\n",
    "day, mon, hour, min, sec = int(date[:2]), int(month[date[3:6]]), int(date[12:14])+9, int(date[15:17]), int(date[18:])\n",
    "if (hour>24):\n",
    "    hour -=hour\n",
    "print(f'최초 로그인 시간 : {mon}월 {day}일 {hour}시 {min}분 {sec}초')\n",
    "\n",
    "while progress == 0 :\n",
    "    if (mon==target_mon) and (day==target_day) and (hour==target_hour) and (min==target_min) and (sec==target_sec) :\n",
    "        time.sleep(0.5)\n",
    "        driver.refresh()\n",
    "        driver.implicitly_wait(60)      ##페이지 새로고침 후 최대 60초까지 대기\n",
    "        try:\n",
    "            ## 예매하기 버튼 클릭\n",
    "            driver.find_element(\"xpath\",\"/html/body/form/div[10]/div/div[4]/a[4]\").click()\n",
    "            ## 예매 버튼 클릭 시간 확인\n",
    "            date = urllib.request.urlopen(url).headers['Date'][5:-4]\n",
    "            day, mon, hour, min, sec = int(date[:2]), int(month[date[3:6]]), int(date[12:14])+9, int(date[15:17]), int(date[18:])\n",
    "            if (hour>24):\n",
    "                hour -=hour\n",
    "            print(f'클릭시간 : {mon}월 {day}일 {hour}시 {min}분 {sec}초')\n",
    "            progress = 1\n",
    "        except:\n",
    "            pass\n",
    "    else:\n",
    "        date = urllib.request.urlopen(url).headers['Date'][5:-4]\n",
    "        day, mon, hour, min, sec = int(date[:2]), int(month[date[3:6]]), int(date[12:14])+9, int(date[15:17]), int(date[18:])\n",
    "        if (hour>24):\n",
    "            hour -=hour\n",
    "        time.sleep(0.5)\n",
    "        print(f'현재 [{url}]의 서버시간 {mon}월 {day}일 {hour}시 {min}분 {sec}초')\n"
   ]
  },
  {
   "cell_type": "code",
   "execution_count": 8,
   "metadata": {},
   "outputs": [
    {
     "ename": "KeyboardInterrupt",
     "evalue": "",
     "output_type": "error",
     "traceback": [
      "\u001b[1;31m---------------------------------------------------------------------------\u001b[0m",
      "\u001b[1;31mKeyboardInterrupt\u001b[0m                         Traceback (most recent call last)",
      "\u001b[1;32mC:\\TEMP/ipykernel_24480/503994683.py\u001b[0m in \u001b[0;36m<module>\u001b[1;34m\u001b[0m\n\u001b[1;32m----> 1\u001b[1;33m \u001b[1;32mwhile\u001b[0m\u001b[1;33m(\u001b[0m\u001b[1;32mTrue\u001b[0m\u001b[1;33m)\u001b[0m\u001b[1;33m:\u001b[0m\u001b[1;33m\u001b[0m\u001b[1;33m\u001b[0m\u001b[0m\n\u001b[0m\u001b[0;32m      2\u001b[0m     \u001b[1;32mpass\u001b[0m\u001b[1;33m\u001b[0m\u001b[1;33m\u001b[0m\u001b[0m\n",
      "\u001b[1;31mKeyboardInterrupt\u001b[0m: "
     ]
    }
   ],
   "source": [
    "while(True):\n",
    "    pass\n"
   ]
  },
  {
   "cell_type": "code",
   "execution_count": null,
   "metadata": {},
   "outputs": [],
   "source": [
    "## 수정 필요 사항\n",
    "\n",
    "# 1. Selenium 드라이버 업데이트로 인한 명령 변경 (이전에 있던것도 수정 필요)\n",
    "# 2. 다중 접속 및 시간 지연에 대한 처리 보완 (59.6~60.0초 시 티켓팅 가능하도록)\n",
    "# 3. 자동완성으로 인한 로그인 불가 문제 발생 (시간을 두고 키면 문제 발생 안하는듯..)\n",
    "# 4. 시간 차를 두고 여러 개의 프로그램이 한꺼번에 돌아가도록 세팅"
   ]
  }
 ],
 "metadata": {
  "kernelspec": {
   "display_name": "Python 3.10.0 64-bit",
   "language": "python",
   "name": "python3"
  },
  "language_info": {
   "codemirror_mode": {
    "name": "ipython",
    "version": 3
   },
   "file_extension": ".py",
   "mimetype": "text/x-python",
   "name": "python",
   "nbconvert_exporter": "python",
   "pygments_lexer": "ipython3",
   "version": "3.10.0"
  },
  "orig_nbformat": 4,
  "vscode": {
   "interpreter": {
    "hash": "df95319d8ce4e1d89f5365ae10992bc1f65da593082b1d264e8f529830ec2f02"
   }
  }
 },
 "nbformat": 4,
 "nbformat_minor": 2
}
