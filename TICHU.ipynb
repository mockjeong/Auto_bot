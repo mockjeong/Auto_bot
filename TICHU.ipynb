{
 "cells": [
  {
   "cell_type": "code",
   "execution_count": 242,
   "metadata": {},
   "outputs": [],
   "source": [
    "import warnings\n",
    "warnings.filterwarnings(action='ignore')\n",
    "import selenium\n",
    "from selenium import webdriver\n",
    "from selenium.webdriver.common.by import By\n",
    "from selenium.webdriver import Keys, ActionChains\n",
    "import time\n",
    "import csv"
   ]
  },
  {
   "cell_type": "code",
   "execution_count": 175,
   "metadata": {},
   "outputs": [],
   "source": [
    "## 로그인 ID/PW 기록 (일단 내 아이디)\n",
    "login_id = '목정목'\n",
    "login_pw = 'wjdahr11'"
   ]
  },
  {
   "cell_type": "code",
   "execution_count": 176,
   "metadata": {},
   "outputs": [],
   "source": [
    "## Chrome Driver 경로 지정\n",
    "driverPath = r\"chromedriver.exe\" \n",
    "options = webdriver.ChromeOptions()\n",
    "options.add_experimental_option(\"excludeSwitches\", [\"enable-logging\"])\n",
    "driver = webdriver.Chrome(driverPath, options=options) \n",
    "driver.implicitly_wait(4)\n",
    "\n",
    "driver.get('http://tichu.be') \n",
    "time.sleep(3)\n",
    "\n",
    "# #ID/PW 입력 및 로그인\n",
    "driver.find_element(\"id\",'mat-input-0').send_keys(login_id)\n",
    "time.sleep(1)\n",
    "driver.find_element(\"xpath\",'//*[@id=\"mat-dialog-0\"]/tc-login/div/div/button[1]').click()\n",
    "time.sleep(1)\n",
    "driver.find_element(\"id\",'mat-input-1').send_keys(login_pw)\n",
    "time.sleep(1)\n",
    "driver.find_element(\"xpath\",'//*[@id=\"mat-dialog-0\"]/tc-login/div/div/button').click()\n",
    "time.sleep(1)"
   ]
  },
  {
   "cell_type": "code",
   "execution_count": 277,
   "metadata": {},
   "outputs": [
    {
     "name": "stdout",
     "output_type": "stream",
     "text": [
      "봉쥬르 정인현 !! 로하\n",
      "second log : 로하님 1위\n",
      "second log : 봉쥬르님 2위\n",
      "first log : 정인현님 3위\n",
      "('7라운드 봉쥬르:2위', '정인현:3위', '!!:4위', '로하:4위')\n",
      "A팀 :690 B팀 :410\n",
      "second log : 봉쥬르님 1위\n",
      "second log : !!님 2위\n",
      "first log : 로하님 3위\n",
      "('8라운드 봉쥬르:1위', '정인현:4위', '!!:2위', '로하:3위')\n",
      "A팀 :680 B팀 :520\n",
      "second log : !!님 1위\n",
      "first log : 로하님 2위\n",
      "('9라운드 봉쥬르:4위', '정인현:4위', '!!:1위', '로하:2위')\n",
      "A팀 :680 B팀 :720\n",
      "second log : 로하님 1위\n",
      "first log : !!님 2위\n",
      "('10라운 봉쥬르:4위', '정인현:4위', '!!:2위', '로하:1위')\n",
      "A팀 :580 B팀 :920\n",
      "second log : !!님 1위\n",
      "second log : 정인현님 2위\n",
      "first log : 로하님 3위\n",
      "('11라운 봉쥬르:4위', '정인현:2위', '!!:1위', '로하:3위')\n",
      "A팀 :570 B팀 :930\n",
      "second log : 로하님 1위\n",
      "second log : 봉쥬르님 2위\n",
      "first log : !!님 3위\n",
      "('12라운 봉쥬르:2위', '정인현:4위', '!!:3위', '로하:1위')\n",
      "A팀 :570 B팀 :1030\n",
      "최종결과 A팀 :570 B팀 :1030\n",
      "최종결과 A팀 :570 B팀 :1030\n",
      "최종결과 A팀 :570 B팀 :1030\n"
     ]
    }
   ],
   "source": [
    "## Player1&2  VS Player3&4\n",
    "player1 = driver.find_element(\"xpath\",\"/html/body/tc-root/tc-tichu/tc-game-wrapper/div/tc-board/span/div[2]/div/tc-user/div/div\").text\n",
    "player2 = driver.find_element(\"xpath\",\"/html/body/tc-root/tc-tichu/tc-game-wrapper/div/div/tc-user/div/div\").text\n",
    "player3 = driver.find_element(\"xpath\",\"/html/body/tc-root/tc-tichu/tc-game-wrapper/div/tc-board/span/div[4]/div/tc-user/div/div\").text\n",
    "player4 = driver.find_element(\"xpath\",\"/html/body/tc-root/tc-tichu/tc-game-wrapper/div/tc-board/span/div[3]/div/tc-user/div/div\").text\n",
    "print (player1, player2, player3, player4)\n",
    "time.sleep(1)\n",
    "\n",
    "first_log_ex = 0\n",
    "second_log_ex = 0\n",
    "raw_log= []\n",
    "raw_log2= []\n",
    "rank_log=[]\n",
    "\n",
    "look_for_rank=1\n",
    "player1_rank=4\n",
    "player2_rank=4\n",
    "player3_rank=4\n",
    "player4_rank=4\n",
    "\n",
    "try:\n",
    "    is_ingame = driver.find_element(By.TAG_NAME, 'tc-tichu').is_enabled()\n",
    "except:\n",
    "    is_ingame = 0\n",
    "while(is_ingame==True):\n",
    "    try:\n",
    "        first_log = driver.find_element(\"xpath\",\"/html/body/tc-root/tc-tichu/tc-game-wrapper/div/tc-board/span/div[1]/tc-log[20]\").text\n",
    "        second_log = driver.find_element(\"xpath\",\"/html/body/tc-root/tc-tichu/tc-game-wrapper/div/tc-board/span/div[1]/tc-log[19]\").text   \n",
    "        ##첫번째 로그와 두번째 로그가 한꺼번에 뜨면 첫번째 로그에는 남지 않아서 2개의 로그를 동시에 모니터링 해야함.\n",
    "        if((second_log != second_log_ex) and (second_log !=first_log_ex) and second_log !=\"\"):\n",
    "            second_log_ex = second_log\n",
    "            raw_log2.append(second_log)\n",
    "        if(first_log != first_log_ex and first_log !=\"\"):\n",
    "            first_log_ex = first_log\n",
    "            raw_log.append(first_log)\n",
    "        \n",
    "        #순위 판별 \n",
    "        if(look_for_rank==1):\n",
    "            if(first_log[-2:]=='1위'):\n",
    "                if(first_log[0:len(player1)]==player1):\n",
    "                    player1_rank = int(first_log[-2:-1])\n",
    "                elif(first_log[0:len(player2)]==player2):\n",
    "                    player2_rank = int(first_log[-2:-1])\n",
    "                elif(first_log[0:len(player3)]==player3):\n",
    "                    player3_rank = int(first_log[-2:-1])\n",
    "                elif(first_log[0:len(player4)]==player4):\n",
    "                    player4_rank = int(first_log[-2:-1])\n",
    "                print(first_log)\n",
    "                rank_log.append(first_log)\n",
    "                look_for_rank = 2\n",
    "            elif(second_log[-2:]=='1위'):\n",
    "                if(second_log[0:len(player1)]==player1):\n",
    "                    player1_rank = int(second_log[-2:-1])\n",
    "                elif(second_log[0:len(player2)]==player2):\n",
    "                    player2_rank = int(second_log[-2:-1])\n",
    "                elif(second_log[0:len(player3)]==player3):\n",
    "                    player3_rank = int(second_log[-2:-1])\n",
    "                elif(first_log[0:len(player4)]==player4):\n",
    "                    player4_rank = int(second_log[-2:-1])\n",
    "                print(second_log)\n",
    "                rank_log.append(second_log)\n",
    "                look_for_rank = 2\n",
    "        elif(look_for_rank==2):\n",
    "            if(first_log[-2:]=='2위'):\n",
    "                if(first_log[0:len(player1)]==player1):\n",
    "                    player1_rank = int(first_log[-2:-1])\n",
    "                elif(first_log[0:len(player2)]==player2):\n",
    "                    player2_rank = int(first_log[-2:-1])\n",
    "                elif(first_log[0:len(player3)]==player3):\n",
    "                    player3_rank = int(first_log[-2:-1])\n",
    "                elif(first_log[0:len(player4)]==player4):\n",
    "                    player4_rank = int(first_log[-2:-1])\n",
    "                print(first_log)\n",
    "                rank_log.append(first_log)\n",
    "                look_for_rank = 3\n",
    "            elif(second_log[-2:]=='2위'):\n",
    "                if(second_log[0:len(player1)]==player1):\n",
    "                    player1_rank = int(second_log[-2:-1])\n",
    "                elif(second_log[0:len(player2)]==player2):\n",
    "                    player2_rank = int(second_log[-2:-1])\n",
    "                elif(second_log[0:len(player3)]==player3):\n",
    "                    player3_rank = int(second_log[-2:-1])\n",
    "                elif(first_log[0:len(player4)]==player4):\n",
    "                    player4_rank = int(second_log[-2:-1])\n",
    "                print(second_log)\n",
    "                rank_log.append(second_log)\n",
    "                look_for_rank = 3\n",
    "        elif(look_for_rank==3):\n",
    "            if(first_log[-2:]=='3위'):\n",
    "                if(first_log[0:len(player1)]==player1):\n",
    "                    player1_rank = int(first_log[-2:-1])\n",
    "                elif(first_log[0:len(player2)]==player2):\n",
    "                    player2_rank = int(first_log[-2:-1])\n",
    "                elif(first_log[0:len(player3)]==player3):\n",
    "                    player3_rank = int(first_log[-2:-1])\n",
    "                elif(first_log[0:len(player4)]==player4):\n",
    "                    player4_rank = int(first_log[-2:-1])\n",
    "                print(first_log)\n",
    "                rank_log.append(first_log)\n",
    "                look_for_rank = 4\n",
    "            elif(second_log[-2:]=='3위'):\n",
    "                if(second_log[0:len(player1)]==player1):\n",
    "                    player1_rank = int(second_log[-2:-1])\n",
    "                elif(second_log[0:len(player2)]==player2):\n",
    "                    player2_rank = int(second_log[-2:-1])\n",
    "                elif(second_log[0:len(player3)]==player3):\n",
    "                    player3_rank = int(second_log[-2:-1])\n",
    "                elif(first_log[0:len(player4)]==player4):\n",
    "                    player4_rank = int(second_log[-2:-1])\n",
    "                print(second_log)\n",
    "                rank_log.append(second_log)\n",
    "                look_for_rank = 4\n",
    "\n",
    "        #라운드 종료 판별\n",
    "        if(first_log_ex[-1:]=='점' and look_for_rank != 1):\n",
    "            round_result1 = first_log_ex[0:4] +' '+ player1 + \":\"+ str(player1_rank)+'위', player2 + \":\"+str(player2_rank)+'위', player3 + \":\"+str(player3_rank)+'위', player4 + \":\"+str(player4_rank)+'위'\n",
    "            print(round_result1)\n",
    "            rank_log.append(round_result1)\n",
    "            look_for_rank = 1\n",
    "            player1_rank = 4\n",
    "            player2_rank = 4\n",
    "            player3_rank = 4\n",
    "            player4_rank = 4\n",
    "            time.sleep(2)\n",
    "            a_team_score = driver.find_element(By.CLASS_NAME, \"sum\").find_element(By.CLASS_NAME, \"team-a\").text\n",
    "            b_team_score = driver.find_element(By.CLASS_NAME, \"sum\").find_element(By.CLASS_NAME, \"team-b\").text\n",
    "            print(\"A팀 :\" + a_team_score +\" B팀 :\" + b_team_score )\n",
    "            ActionChains(driver).send_keys(Keys.ESCAPE).perform()\n",
    "        elif(second_log_ex[-1:]=='점' and look_for_rank !=1):\n",
    "            round_result2 = second_log_ex[0:4] +' '+ player1 + \":\"+ str(player1_rank)+'위', player2 + \":\"+str(player2_rank)+'위', player3 + \":\"+str(player3_rank)+'위', player4 + \":\"+str(player4_rank)+'위'\n",
    "            print(round_result2)\n",
    "            rank_log.append(round_result2)\n",
    "            look_for_rank = 1\n",
    "            player1_rank = 4\n",
    "            player2_rank = 4\n",
    "            player3_rank = 4\n",
    "            player4_rank = 4\n",
    "            time.sleep(2)\n",
    "            a_team_score = driver.find_element(By.CLASS_NAME, \"sum\").find_element(By.CLASS_NAME, \"team-a\").text\n",
    "            b_team_score = driver.find_element(By.CLASS_NAME, \"sum\").find_element(By.CLASS_NAME, \"team-b\").text\n",
    "            print(\"A팀 :\" + a_team_score +\" B팀 :\" + b_team_score )\n",
    "            ActionChains(driver).send_keys(Keys.ESCAPE).perform()\n",
    "\n",
    "        #경기 종료 판별 (경기 종료는 라운드 종료와 동시에 이루어짐. ESC를 누르면 합계 점수가 없어지기 때문에 합계 점수는 라운드 종료 판별에서 이루어져야 함..)\n",
    "        #로그가 3번씩 뜨는 문제 있음.. 해결 필요\n",
    "        if(first_log_ex[0:4]=='게임종료'):\n",
    "            print(\"최종결과 A팀 :\" + a_team_score +\" B팀 :\" + b_team_score )\n",
    "            first_log_ex=''\n",
    "            is_ingame=0\n",
    "        elif(second_log_ex[0:4]=='게임종료'):\n",
    "            print(\"최종결과 A팀 :\" + a_team_score +\" B팀 :\" + b_team_score )\n",
    "            second_log_ex=''\n",
    "            is_ingame=0\n",
    "\n",
    "    except:\n",
    "        pass\n",
    "    try:\n",
    "        is_ingame = driver.find_element(By.TAG_NAME, 'tc-tichu').is_enabled()\n",
    "    except:\n",
    "        is_ingame = 0\n",
    "    \n",
    "\n"
   ]
  },
  {
   "cell_type": "code",
   "execution_count": 275,
   "metadata": {},
   "outputs": [
    {
     "data": {
      "text/plain": [
       "''"
      ]
     },
     "execution_count": 275,
     "metadata": {},
     "output_type": "execute_result"
    }
   ],
   "source": [
    "first_log_ex"
   ]
  },
  {
   "cell_type": "code",
   "execution_count": 272,
   "metadata": {},
   "outputs": [
    {
     "data": {
      "text/plain": [
       "'590'"
      ]
     },
     "execution_count": 272,
     "metadata": {},
     "output_type": "execute_result"
    }
   ],
   "source": [
    "a_team_score = driver.find_element(By.CLASS_NAME, \"sum\").find_element(By.CLASS_NAME, \"team-a\").text\n",
    "a_team_score"
   ]
  },
  {
   "cell_type": "code",
   "execution_count": 223,
   "metadata": {},
   "outputs": [],
   "source": [
    "import csv\n",
    "f = open('first_log.csv', 'w',newline='')\n",
    "writer = csv.writer(f)\n",
    "writer.writerow(raw_log)\n",
    "f.close()\n",
    "f = open('second_log.csv', 'w',newline='')\n",
    "writer = csv.writer(f)\n",
    "writer.writerow(raw_log2)\n",
    "f.close()\n",
    "f = open('rank_log.csv', 'w',newline='')\n",
    "writer = csv.writer(f)\n",
    "writer.writerow(rank_log)\n",
    "f.close()"
   ]
  },
  {
   "cell_type": "code",
   "execution_count": 262,
   "metadata": {},
   "outputs": [
    {
     "data": {
      "text/plain": [
       "'990'"
      ]
     },
     "execution_count": 262,
     "metadata": {},
     "output_type": "execute_result"
    }
   ],
   "source": [
    "a_team_score = driver.find_element(By.CLASS_NAME, \"sum\").find_element(By.CLASS_NAME, \"team-a\").text\n",
    "b_team_score = driver.find_element(By.CLASS_NAME, \"sum\").find_element(By.CLASS_NAME, \"team-b\").text\n",
    "b_team_score"
   ]
  },
  {
   "cell_type": "code",
   "execution_count": 168,
   "metadata": {},
   "outputs": [],
   "source": [
    "import csv\n",
    "f = open('out1.csv', 'w')\n",
    "writer = csv.writer(f)\n",
    "writer.writerow(raw_log)\n",
    "f.close()\n",
    "f = open('out2.csv', 'w')\n",
    "writer = csv.writer(f)\n",
    "writer.writerow(raw_log2)\n",
    "f.close()"
   ]
  },
  {
   "cell_type": "code",
   "execution_count": 5,
   "metadata": {},
   "outputs": [],
   "source": [
    "import telegram\n",
    "telgm_token = '5523286949:AAH-dLh7miR9gU9aMrGUZHOOLiuRlWHm0q4'\n",
    "tele_bot = telegram.Bot(token = telgm_token)"
   ]
  },
  {
   "cell_type": "code",
   "execution_count": 7,
   "metadata": {},
   "outputs": [
    {
     "ename": "NetworkError",
     "evalue": "urllib3 HTTPError EOF occurred in violation of protocol (_ssl.c:997)",
     "output_type": "error",
     "traceback": [
      "\u001b[1;31m---------------------------------------------------------------------------\u001b[0m",
      "\u001b[1;31mSSLEOFError\u001b[0m                               Traceback (most recent call last)",
      "\u001b[1;32mc:\\Users\\USER\\AppData\\Local\\Programs\\Python\\Python310\\lib\\site-packages\\telegram\\vendor\\ptb_urllib3\\urllib3\\connectionpool.py\u001b[0m in \u001b[0;36murlopen\u001b[1;34m(self, method, url, body, headers, retries, redirect, assert_same_host, timeout, pool_timeout, release_conn, chunked, body_pos, **response_kw)\u001b[0m\n\u001b[0;32m    613\u001b[0m             \u001b[1;31m# Make the request on the httplib connection object.\u001b[0m\u001b[1;33m\u001b[0m\u001b[1;33m\u001b[0m\u001b[0m\n\u001b[1;32m--> 614\u001b[1;33m             httplib_response = self._make_request(conn, method, url,\n\u001b[0m\u001b[0;32m    615\u001b[0m                                                   \u001b[0mtimeout\u001b[0m\u001b[1;33m=\u001b[0m\u001b[0mtimeout_obj\u001b[0m\u001b[1;33m,\u001b[0m\u001b[1;33m\u001b[0m\u001b[1;33m\u001b[0m\u001b[0m\n",
      "\u001b[1;32mc:\\Users\\USER\\AppData\\Local\\Programs\\Python\\Python310\\lib\\site-packages\\telegram\\vendor\\ptb_urllib3\\urllib3\\connectionpool.py\u001b[0m in \u001b[0;36m_make_request\u001b[1;34m(self, conn, method, url, timeout, chunked, **httplib_request_kw)\u001b[0m\n\u001b[0;32m    359\u001b[0m         \u001b[1;32mtry\u001b[0m\u001b[1;33m:\u001b[0m\u001b[1;33m\u001b[0m\u001b[1;33m\u001b[0m\u001b[0m\n\u001b[1;32m--> 360\u001b[1;33m             \u001b[0mself\u001b[0m\u001b[1;33m.\u001b[0m\u001b[0m_validate_conn\u001b[0m\u001b[1;33m(\u001b[0m\u001b[0mconn\u001b[0m\u001b[1;33m)\u001b[0m\u001b[1;33m\u001b[0m\u001b[1;33m\u001b[0m\u001b[0m\n\u001b[0m\u001b[0;32m    361\u001b[0m         \u001b[1;32mexcept\u001b[0m \u001b[1;33m(\u001b[0m\u001b[0mSocketTimeout\u001b[0m\u001b[1;33m,\u001b[0m \u001b[0mBaseSSLError\u001b[0m\u001b[1;33m)\u001b[0m \u001b[1;32mas\u001b[0m \u001b[0me\u001b[0m\u001b[1;33m:\u001b[0m\u001b[1;33m\u001b[0m\u001b[1;33m\u001b[0m\u001b[0m\n",
      "\u001b[1;32mc:\\Users\\USER\\AppData\\Local\\Programs\\Python\\Python310\\lib\\site-packages\\telegram\\vendor\\ptb_urllib3\\urllib3\\connectionpool.py\u001b[0m in \u001b[0;36m_validate_conn\u001b[1;34m(self, conn)\u001b[0m\n\u001b[0;32m    856\u001b[0m         \"\"\"\n\u001b[1;32m--> 857\u001b[1;33m         \u001b[0msuper\u001b[0m\u001b[1;33m(\u001b[0m\u001b[0mHTTPSConnectionPool\u001b[0m\u001b[1;33m,\u001b[0m \u001b[0mself\u001b[0m\u001b[1;33m)\u001b[0m\u001b[1;33m.\u001b[0m\u001b[0m_validate_conn\u001b[0m\u001b[1;33m(\u001b[0m\u001b[0mconn\u001b[0m\u001b[1;33m)\u001b[0m\u001b[1;33m\u001b[0m\u001b[1;33m\u001b[0m\u001b[0m\n\u001b[0m\u001b[0;32m    858\u001b[0m \u001b[1;33m\u001b[0m\u001b[0m\n",
      "\u001b[1;32mc:\\Users\\USER\\AppData\\Local\\Programs\\Python\\Python310\\lib\\site-packages\\telegram\\vendor\\ptb_urllib3\\urllib3\\connectionpool.py\u001b[0m in \u001b[0;36m_validate_conn\u001b[1;34m(self, conn)\u001b[0m\n\u001b[0;32m    288\u001b[0m         \u001b[1;32mif\u001b[0m \u001b[1;32mnot\u001b[0m \u001b[0mgetattr\u001b[0m\u001b[1;33m(\u001b[0m\u001b[0mconn\u001b[0m\u001b[1;33m,\u001b[0m \u001b[1;34m'sock'\u001b[0m\u001b[1;33m,\u001b[0m \u001b[1;32mNone\u001b[0m\u001b[1;33m)\u001b[0m\u001b[1;33m:\u001b[0m  \u001b[1;31m# AppEngine might not have  `.sock`\u001b[0m\u001b[1;33m\u001b[0m\u001b[1;33m\u001b[0m\u001b[0m\n\u001b[1;32m--> 289\u001b[1;33m             \u001b[0mconn\u001b[0m\u001b[1;33m.\u001b[0m\u001b[0mconnect\u001b[0m\u001b[1;33m(\u001b[0m\u001b[1;33m)\u001b[0m\u001b[1;33m\u001b[0m\u001b[1;33m\u001b[0m\u001b[0m\n\u001b[0m\u001b[0;32m    290\u001b[0m \u001b[1;33m\u001b[0m\u001b[0m\n",
      "\u001b[1;32mc:\\Users\\USER\\AppData\\Local\\Programs\\Python\\Python310\\lib\\site-packages\\telegram\\vendor\\ptb_urllib3\\urllib3\\connection.py\u001b[0m in \u001b[0;36mconnect\u001b[1;34m(self)\u001b[0m\n\u001b[0;32m    318\u001b[0m         \u001b[0mcontext\u001b[0m\u001b[1;33m.\u001b[0m\u001b[0mverify_mode\u001b[0m \u001b[1;33m=\u001b[0m \u001b[0mresolve_cert_reqs\u001b[0m\u001b[1;33m(\u001b[0m\u001b[0mself\u001b[0m\u001b[1;33m.\u001b[0m\u001b[0mcert_reqs\u001b[0m\u001b[1;33m)\u001b[0m\u001b[1;33m\u001b[0m\u001b[1;33m\u001b[0m\u001b[0m\n\u001b[1;32m--> 319\u001b[1;33m         self.sock = ssl_wrap_socket(\n\u001b[0m\u001b[0;32m    320\u001b[0m             \u001b[0msock\u001b[0m\u001b[1;33m=\u001b[0m\u001b[0mconn\u001b[0m\u001b[1;33m,\u001b[0m\u001b[1;33m\u001b[0m\u001b[1;33m\u001b[0m\u001b[0m\n",
      "\u001b[1;32mc:\\Users\\USER\\AppData\\Local\\Programs\\Python\\Python310\\lib\\site-packages\\telegram\\vendor\\ptb_urllib3\\urllib3\\util\\ssl_.py\u001b[0m in \u001b[0;36mssl_wrap_socket\u001b[1;34m(sock, keyfile, certfile, cert_reqs, ca_certs, server_hostname, ssl_version, ciphers, ssl_context, ca_cert_dir)\u001b[0m\n\u001b[0;32m    323\u001b[0m     \u001b[1;32mif\u001b[0m \u001b[0mHAS_SNI\u001b[0m\u001b[1;33m:\u001b[0m  \u001b[1;31m# Platform-specific: OpenSSL with enabled SNI\u001b[0m\u001b[1;33m\u001b[0m\u001b[1;33m\u001b[0m\u001b[0m\n\u001b[1;32m--> 324\u001b[1;33m         \u001b[1;32mreturn\u001b[0m \u001b[0mcontext\u001b[0m\u001b[1;33m.\u001b[0m\u001b[0mwrap_socket\u001b[0m\u001b[1;33m(\u001b[0m\u001b[0msock\u001b[0m\u001b[1;33m,\u001b[0m \u001b[0mserver_hostname\u001b[0m\u001b[1;33m=\u001b[0m\u001b[0mserver_hostname\u001b[0m\u001b[1;33m)\u001b[0m\u001b[1;33m\u001b[0m\u001b[1;33m\u001b[0m\u001b[0m\n\u001b[0m\u001b[0;32m    325\u001b[0m \u001b[1;33m\u001b[0m\u001b[0m\n",
      "\u001b[1;32mc:\\Users\\USER\\AppData\\Local\\Programs\\Python\\Python310\\lib\\ssl.py\u001b[0m in \u001b[0;36mwrap_socket\u001b[1;34m(self, sock, server_side, do_handshake_on_connect, suppress_ragged_eofs, server_hostname, session)\u001b[0m\n\u001b[0;32m    511\u001b[0m         \u001b[1;31m# ctx._wrap_socket()\u001b[0m\u001b[1;33m\u001b[0m\u001b[1;33m\u001b[0m\u001b[0m\n\u001b[1;32m--> 512\u001b[1;33m         return self.sslsocket_class._create(\n\u001b[0m\u001b[0;32m    513\u001b[0m             \u001b[0msock\u001b[0m\u001b[1;33m=\u001b[0m\u001b[0msock\u001b[0m\u001b[1;33m,\u001b[0m\u001b[1;33m\u001b[0m\u001b[1;33m\u001b[0m\u001b[0m\n",
      "\u001b[1;32mc:\\Users\\USER\\AppData\\Local\\Programs\\Python\\Python310\\lib\\ssl.py\u001b[0m in \u001b[0;36m_create\u001b[1;34m(cls, sock, server_side, do_handshake_on_connect, suppress_ragged_eofs, server_hostname, context, session)\u001b[0m\n\u001b[0;32m   1069\u001b[0m                         \u001b[1;32mraise\u001b[0m \u001b[0mValueError\u001b[0m\u001b[1;33m(\u001b[0m\u001b[1;34m\"do_handshake_on_connect should not be specified for non-blocking sockets\"\u001b[0m\u001b[1;33m)\u001b[0m\u001b[1;33m\u001b[0m\u001b[1;33m\u001b[0m\u001b[0m\n\u001b[1;32m-> 1070\u001b[1;33m                     \u001b[0mself\u001b[0m\u001b[1;33m.\u001b[0m\u001b[0mdo_handshake\u001b[0m\u001b[1;33m(\u001b[0m\u001b[1;33m)\u001b[0m\u001b[1;33m\u001b[0m\u001b[1;33m\u001b[0m\u001b[0m\n\u001b[0m\u001b[0;32m   1071\u001b[0m             \u001b[1;32mexcept\u001b[0m \u001b[1;33m(\u001b[0m\u001b[0mOSError\u001b[0m\u001b[1;33m,\u001b[0m \u001b[0mValueError\u001b[0m\u001b[1;33m)\u001b[0m\u001b[1;33m:\u001b[0m\u001b[1;33m\u001b[0m\u001b[1;33m\u001b[0m\u001b[0m\n",
      "\u001b[1;32mc:\\Users\\USER\\AppData\\Local\\Programs\\Python\\Python310\\lib\\ssl.py\u001b[0m in \u001b[0;36mdo_handshake\u001b[1;34m(self, block)\u001b[0m\n\u001b[0;32m   1340\u001b[0m                 \u001b[0mself\u001b[0m\u001b[1;33m.\u001b[0m\u001b[0msettimeout\u001b[0m\u001b[1;33m(\u001b[0m\u001b[1;32mNone\u001b[0m\u001b[1;33m)\u001b[0m\u001b[1;33m\u001b[0m\u001b[1;33m\u001b[0m\u001b[0m\n\u001b[1;32m-> 1341\u001b[1;33m             \u001b[0mself\u001b[0m\u001b[1;33m.\u001b[0m\u001b[0m_sslobj\u001b[0m\u001b[1;33m.\u001b[0m\u001b[0mdo_handshake\u001b[0m\u001b[1;33m(\u001b[0m\u001b[1;33m)\u001b[0m\u001b[1;33m\u001b[0m\u001b[1;33m\u001b[0m\u001b[0m\n\u001b[0m\u001b[0;32m   1342\u001b[0m         \u001b[1;32mfinally\u001b[0m\u001b[1;33m:\u001b[0m\u001b[1;33m\u001b[0m\u001b[1;33m\u001b[0m\u001b[0m\n",
      "\u001b[1;31mSSLEOFError\u001b[0m: EOF occurred in violation of protocol (_ssl.c:997)",
      "\nDuring handling of the above exception, another exception occurred:\n",
      "\u001b[1;31mSSLError\u001b[0m                                  Traceback (most recent call last)",
      "\u001b[1;32mc:\\Users\\USER\\AppData\\Local\\Programs\\Python\\Python310\\lib\\site-packages\\telegram\\utils\\request.py\u001b[0m in \u001b[0;36m_request_wrapper\u001b[1;34m(self, *args, **kwargs)\u001b[0m\n\u001b[0;32m    258\u001b[0m         \u001b[1;32mtry\u001b[0m\u001b[1;33m:\u001b[0m\u001b[1;33m\u001b[0m\u001b[1;33m\u001b[0m\u001b[0m\n\u001b[1;32m--> 259\u001b[1;33m             \u001b[0mresp\u001b[0m \u001b[1;33m=\u001b[0m \u001b[0mself\u001b[0m\u001b[1;33m.\u001b[0m\u001b[0m_con_pool\u001b[0m\u001b[1;33m.\u001b[0m\u001b[0mrequest\u001b[0m\u001b[1;33m(\u001b[0m\u001b[1;33m*\u001b[0m\u001b[0margs\u001b[0m\u001b[1;33m,\u001b[0m \u001b[1;33m**\u001b[0m\u001b[0mkwargs\u001b[0m\u001b[1;33m)\u001b[0m\u001b[1;33m\u001b[0m\u001b[1;33m\u001b[0m\u001b[0m\n\u001b[0m\u001b[0;32m    260\u001b[0m         \u001b[1;32mexcept\u001b[0m \u001b[0murllib3\u001b[0m\u001b[1;33m.\u001b[0m\u001b[0mexceptions\u001b[0m\u001b[1;33m.\u001b[0m\u001b[0mTimeoutError\u001b[0m \u001b[1;32mas\u001b[0m \u001b[0merror\u001b[0m\u001b[1;33m:\u001b[0m\u001b[1;33m\u001b[0m\u001b[1;33m\u001b[0m\u001b[0m\n",
      "\u001b[1;32mc:\\Users\\USER\\AppData\\Local\\Programs\\Python\\Python310\\lib\\site-packages\\telegram\\vendor\\ptb_urllib3\\urllib3\\request.py\u001b[0m in \u001b[0;36mrequest\u001b[1;34m(self, method, url, fields, headers, **urlopen_kw)\u001b[0m\n\u001b[0;32m     67\u001b[0m         \u001b[1;32melse\u001b[0m\u001b[1;33m:\u001b[0m\u001b[1;33m\u001b[0m\u001b[1;33m\u001b[0m\u001b[0m\n\u001b[1;32m---> 68\u001b[1;33m             return self.request_encode_body(method, url, fields=fields,\n\u001b[0m\u001b[0;32m     69\u001b[0m                                             \u001b[0mheaders\u001b[0m\u001b[1;33m=\u001b[0m\u001b[0mheaders\u001b[0m\u001b[1;33m,\u001b[0m\u001b[1;33m\u001b[0m\u001b[1;33m\u001b[0m\u001b[0m\n",
      "\u001b[1;32mc:\\Users\\USER\\AppData\\Local\\Programs\\Python\\Python310\\lib\\site-packages\\telegram\\vendor\\ptb_urllib3\\urllib3\\request.py\u001b[0m in \u001b[0;36mrequest_encode_body\u001b[1;34m(self, method, url, fields, headers, encode_multipart, multipart_boundary, **urlopen_kw)\u001b[0m\n\u001b[0;32m    147\u001b[0m \u001b[1;33m\u001b[0m\u001b[0m\n\u001b[1;32m--> 148\u001b[1;33m         \u001b[1;32mreturn\u001b[0m \u001b[0mself\u001b[0m\u001b[1;33m.\u001b[0m\u001b[0murlopen\u001b[0m\u001b[1;33m(\u001b[0m\u001b[0mmethod\u001b[0m\u001b[1;33m,\u001b[0m \u001b[0murl\u001b[0m\u001b[1;33m,\u001b[0m \u001b[1;33m**\u001b[0m\u001b[0mextra_kw\u001b[0m\u001b[1;33m)\u001b[0m\u001b[1;33m\u001b[0m\u001b[1;33m\u001b[0m\u001b[0m\n\u001b[0m",
      "\u001b[1;32mc:\\Users\\USER\\AppData\\Local\\Programs\\Python\\Python310\\lib\\site-packages\\telegram\\vendor\\ptb_urllib3\\urllib3\\poolmanager.py\u001b[0m in \u001b[0;36murlopen\u001b[1;34m(self, method, url, redirect, **kw)\u001b[0m\n\u001b[0;32m    243\u001b[0m         \u001b[1;32melse\u001b[0m\u001b[1;33m:\u001b[0m\u001b[1;33m\u001b[0m\u001b[1;33m\u001b[0m\u001b[0m\n\u001b[1;32m--> 244\u001b[1;33m             \u001b[0mresponse\u001b[0m \u001b[1;33m=\u001b[0m \u001b[0mconn\u001b[0m\u001b[1;33m.\u001b[0m\u001b[0murlopen\u001b[0m\u001b[1;33m(\u001b[0m\u001b[0mmethod\u001b[0m\u001b[1;33m,\u001b[0m \u001b[0mu\u001b[0m\u001b[1;33m.\u001b[0m\u001b[0mrequest_uri\u001b[0m\u001b[1;33m,\u001b[0m \u001b[1;33m**\u001b[0m\u001b[0mkw\u001b[0m\u001b[1;33m)\u001b[0m\u001b[1;33m\u001b[0m\u001b[1;33m\u001b[0m\u001b[0m\n\u001b[0m\u001b[0;32m    245\u001b[0m \u001b[1;33m\u001b[0m\u001b[0m\n",
      "\u001b[1;32mc:\\Users\\USER\\AppData\\Local\\Programs\\Python\\Python310\\lib\\site-packages\\telegram\\vendor\\ptb_urllib3\\urllib3\\connectionpool.py\u001b[0m in \u001b[0;36murlopen\u001b[1;34m(self, method, url, body, headers, retries, redirect, assert_same_host, timeout, pool_timeout, release_conn, chunked, body_pos, **response_kw)\u001b[0m\n\u001b[0;32m    646\u001b[0m             \u001b[0mclean_exit\u001b[0m \u001b[1;33m=\u001b[0m \u001b[1;32mFalse\u001b[0m\u001b[1;33m\u001b[0m\u001b[1;33m\u001b[0m\u001b[0m\n\u001b[1;32m--> 647\u001b[1;33m             \u001b[1;32mraise\u001b[0m \u001b[0mSSLError\u001b[0m\u001b[1;33m(\u001b[0m\u001b[0me\u001b[0m\u001b[1;33m)\u001b[0m\u001b[1;33m\u001b[0m\u001b[1;33m\u001b[0m\u001b[0m\n\u001b[0m\u001b[0;32m    648\u001b[0m \u001b[1;33m\u001b[0m\u001b[0m\n",
      "\u001b[1;31mSSLError\u001b[0m: EOF occurred in violation of protocol (_ssl.c:997)",
      "\nThe above exception was the direct cause of the following exception:\n",
      "\u001b[1;31mNetworkError\u001b[0m                              Traceback (most recent call last)",
      "\u001b[1;32mC:\\TEMP/ipykernel_21912/2488749931.py\u001b[0m in \u001b[0;36m<module>\u001b[1;34m\u001b[0m\n\u001b[1;32m----> 1\u001b[1;33m \u001b[0mtele_bot\u001b[0m\u001b[1;33m.\u001b[0m\u001b[0msendMessage\u001b[0m\u001b[1;33m(\u001b[0m\u001b[0mchat_id\u001b[0m \u001b[1;33m=\u001b[0m \u001b[1;34m'5559539231'\u001b[0m\u001b[1;33m,\u001b[0m \u001b[0mtext\u001b[0m\u001b[1;33m=\u001b[0m\u001b[1;34m\"시 여정이 예매되었습니다.\\n\"\u001b[0m\u001b[1;33m+\u001b[0m\u001b[1;34m\"KTX 예약화면을 확인하세요..!!\"\u001b[0m\u001b[1;33m)\u001b[0m\u001b[1;33m\u001b[0m\u001b[1;33m\u001b[0m\u001b[0m\n\u001b[0m",
      "\u001b[1;32mc:\\Users\\USER\\AppData\\Local\\Programs\\Python\\Python310\\lib\\site-packages\\telegram\\bot.py\u001b[0m in \u001b[0;36mdecorator\u001b[1;34m(*args, **kwargs)\u001b[0m\n\u001b[0;32m    131\u001b[0m     \u001b[1;32mdef\u001b[0m \u001b[0mdecorator\u001b[0m\u001b[1;33m(\u001b[0m\u001b[1;33m*\u001b[0m\u001b[0margs\u001b[0m\u001b[1;33m:\u001b[0m \u001b[0mobject\u001b[0m\u001b[1;33m,\u001b[0m \u001b[1;33m**\u001b[0m\u001b[0mkwargs\u001b[0m\u001b[1;33m:\u001b[0m \u001b[0mobject\u001b[0m\u001b[1;33m)\u001b[0m \u001b[1;33m->\u001b[0m \u001b[0mRT\u001b[0m\u001b[1;33m:\u001b[0m  \u001b[1;31m# pylint: disable=W0613\u001b[0m\u001b[1;33m\u001b[0m\u001b[1;33m\u001b[0m\u001b[0m\n\u001b[0;32m    132\u001b[0m         \u001b[0mlogger\u001b[0m\u001b[1;33m.\u001b[0m\u001b[0mdebug\u001b[0m\u001b[1;33m(\u001b[0m\u001b[1;34m'Entering: %s'\u001b[0m\u001b[1;33m,\u001b[0m \u001b[0mfunc\u001b[0m\u001b[1;33m.\u001b[0m\u001b[0m__name__\u001b[0m\u001b[1;33m)\u001b[0m\u001b[1;33m\u001b[0m\u001b[1;33m\u001b[0m\u001b[0m\n\u001b[1;32m--> 133\u001b[1;33m         \u001b[0mresult\u001b[0m \u001b[1;33m=\u001b[0m \u001b[0mfunc\u001b[0m\u001b[1;33m(\u001b[0m\u001b[1;33m*\u001b[0m\u001b[0margs\u001b[0m\u001b[1;33m,\u001b[0m \u001b[1;33m**\u001b[0m\u001b[0mkwargs\u001b[0m\u001b[1;33m)\u001b[0m\u001b[1;33m\u001b[0m\u001b[1;33m\u001b[0m\u001b[0m\n\u001b[0m\u001b[0;32m    134\u001b[0m         \u001b[0mlogger\u001b[0m\u001b[1;33m.\u001b[0m\u001b[0mdebug\u001b[0m\u001b[1;33m(\u001b[0m\u001b[0mresult\u001b[0m\u001b[1;33m)\u001b[0m\u001b[1;33m\u001b[0m\u001b[1;33m\u001b[0m\u001b[0m\n\u001b[0;32m    135\u001b[0m         \u001b[0mlogger\u001b[0m\u001b[1;33m.\u001b[0m\u001b[0mdebug\u001b[0m\u001b[1;33m(\u001b[0m\u001b[1;34m'Exiting: %s'\u001b[0m\u001b[1;33m,\u001b[0m \u001b[0mfunc\u001b[0m\u001b[1;33m.\u001b[0m\u001b[0m__name__\u001b[0m\u001b[1;33m)\u001b[0m\u001b[1;33m\u001b[0m\u001b[1;33m\u001b[0m\u001b[0m\n",
      "\u001b[1;32mc:\\Users\\USER\\AppData\\Local\\Programs\\Python\\Python310\\lib\\site-packages\\telegram\\bot.py\u001b[0m in \u001b[0;36msend_message\u001b[1;34m(self, chat_id, text, parse_mode, disable_web_page_preview, disable_notification, reply_to_message_id, reply_markup, timeout, api_kwargs, allow_sending_without_reply, entities, protect_content)\u001b[0m\n\u001b[0;32m    523\u001b[0m             \u001b[0mdata\u001b[0m\u001b[1;33m[\u001b[0m\u001b[1;34m'entities'\u001b[0m\u001b[1;33m]\u001b[0m \u001b[1;33m=\u001b[0m \u001b[1;33m[\u001b[0m\u001b[0mme\u001b[0m\u001b[1;33m.\u001b[0m\u001b[0mto_dict\u001b[0m\u001b[1;33m(\u001b[0m\u001b[1;33m)\u001b[0m \u001b[1;32mfor\u001b[0m \u001b[0mme\u001b[0m \u001b[1;32min\u001b[0m \u001b[0mentities\u001b[0m\u001b[1;33m]\u001b[0m\u001b[1;33m\u001b[0m\u001b[1;33m\u001b[0m\u001b[0m\n\u001b[0;32m    524\u001b[0m \u001b[1;33m\u001b[0m\u001b[0m\n\u001b[1;32m--> 525\u001b[1;33m         return self._message(  # type: ignore[return-value]\n\u001b[0m\u001b[0;32m    526\u001b[0m             \u001b[1;34m'sendMessage'\u001b[0m\u001b[1;33m,\u001b[0m\u001b[1;33m\u001b[0m\u001b[1;33m\u001b[0m\u001b[0m\n\u001b[0;32m    527\u001b[0m             \u001b[0mdata\u001b[0m\u001b[1;33m,\u001b[0m\u001b[1;33m\u001b[0m\u001b[1;33m\u001b[0m\u001b[0m\n",
      "\u001b[1;32mc:\\Users\\USER\\AppData\\Local\\Programs\\Python\\Python310\\lib\\site-packages\\telegram\\bot.py\u001b[0m in \u001b[0;36m_message\u001b[1;34m(self, endpoint, data, reply_to_message_id, disable_notification, reply_markup, allow_sending_without_reply, timeout, api_kwargs, protect_content)\u001b[0m\n\u001b[0;32m    337\u001b[0m                 \u001b[0mdata\u001b[0m\u001b[1;33m[\u001b[0m\u001b[1;34m'media'\u001b[0m\u001b[1;33m]\u001b[0m\u001b[1;33m.\u001b[0m\u001b[0mparse_mode\u001b[0m \u001b[1;33m=\u001b[0m \u001b[1;32mNone\u001b[0m\u001b[1;33m\u001b[0m\u001b[1;33m\u001b[0m\u001b[0m\n\u001b[0;32m    338\u001b[0m \u001b[1;33m\u001b[0m\u001b[0m\n\u001b[1;32m--> 339\u001b[1;33m         \u001b[0mresult\u001b[0m \u001b[1;33m=\u001b[0m \u001b[0mself\u001b[0m\u001b[1;33m.\u001b[0m\u001b[0m_post\u001b[0m\u001b[1;33m(\u001b[0m\u001b[0mendpoint\u001b[0m\u001b[1;33m,\u001b[0m \u001b[0mdata\u001b[0m\u001b[1;33m,\u001b[0m \u001b[0mtimeout\u001b[0m\u001b[1;33m=\u001b[0m\u001b[0mtimeout\u001b[0m\u001b[1;33m,\u001b[0m \u001b[0mapi_kwargs\u001b[0m\u001b[1;33m=\u001b[0m\u001b[0mapi_kwargs\u001b[0m\u001b[1;33m)\u001b[0m\u001b[1;33m\u001b[0m\u001b[1;33m\u001b[0m\u001b[0m\n\u001b[0m\u001b[0;32m    340\u001b[0m \u001b[1;33m\u001b[0m\u001b[0m\n\u001b[0;32m    341\u001b[0m         \u001b[1;32mif\u001b[0m \u001b[0mresult\u001b[0m \u001b[1;32mis\u001b[0m \u001b[1;32mTrue\u001b[0m\u001b[1;33m:\u001b[0m\u001b[1;33m\u001b[0m\u001b[1;33m\u001b[0m\u001b[0m\n",
      "\u001b[1;32mc:\\Users\\USER\\AppData\\Local\\Programs\\Python\\Python310\\lib\\site-packages\\telegram\\bot.py\u001b[0m in \u001b[0;36m_post\u001b[1;34m(self, endpoint, data, timeout, api_kwargs)\u001b[0m\n\u001b[0;32m    296\u001b[0m         \u001b[0mdata\u001b[0m \u001b[1;33m=\u001b[0m \u001b[1;33m{\u001b[0m\u001b[0mkey\u001b[0m\u001b[1;33m:\u001b[0m \u001b[0mvalue\u001b[0m \u001b[1;32mfor\u001b[0m \u001b[0mkey\u001b[0m\u001b[1;33m,\u001b[0m \u001b[0mvalue\u001b[0m \u001b[1;32min\u001b[0m \u001b[0mdata\u001b[0m\u001b[1;33m.\u001b[0m\u001b[0mitems\u001b[0m\u001b[1;33m(\u001b[0m\u001b[1;33m)\u001b[0m \u001b[1;32mif\u001b[0m \u001b[0mvalue\u001b[0m \u001b[1;32mis\u001b[0m \u001b[1;32mnot\u001b[0m \u001b[1;32mNone\u001b[0m\u001b[1;33m}\u001b[0m\u001b[1;33m\u001b[0m\u001b[1;33m\u001b[0m\u001b[0m\n\u001b[0;32m    297\u001b[0m \u001b[1;33m\u001b[0m\u001b[0m\n\u001b[1;32m--> 298\u001b[1;33m         return self.request.post(\n\u001b[0m\u001b[0;32m    299\u001b[0m             \u001b[1;34mf'{self.base_url}/{endpoint}'\u001b[0m\u001b[1;33m,\u001b[0m \u001b[0mdata\u001b[0m\u001b[1;33m=\u001b[0m\u001b[0mdata\u001b[0m\u001b[1;33m,\u001b[0m \u001b[0mtimeout\u001b[0m\u001b[1;33m=\u001b[0m\u001b[0meffective_timeout\u001b[0m\u001b[1;33m\u001b[0m\u001b[1;33m\u001b[0m\u001b[0m\n\u001b[0;32m    300\u001b[0m         )\n",
      "\u001b[1;32mc:\\Users\\USER\\AppData\\Local\\Programs\\Python\\Python310\\lib\\site-packages\\telegram\\utils\\request.py\u001b[0m in \u001b[0;36mpost\u001b[1;34m(self, url, data, timeout)\u001b[0m\n\u001b[0;32m    359\u001b[0m             \u001b[0mresult\u001b[0m \u001b[1;33m=\u001b[0m \u001b[0mself\u001b[0m\u001b[1;33m.\u001b[0m\u001b[0m_request_wrapper\u001b[0m\u001b[1;33m(\u001b[0m\u001b[1;34m'POST'\u001b[0m\u001b[1;33m,\u001b[0m \u001b[0murl\u001b[0m\u001b[1;33m,\u001b[0m \u001b[0mfields\u001b[0m\u001b[1;33m=\u001b[0m\u001b[0mdata\u001b[0m\u001b[1;33m,\u001b[0m \u001b[1;33m**\u001b[0m\u001b[0murlopen_kwargs\u001b[0m\u001b[1;33m)\u001b[0m\u001b[1;33m\u001b[0m\u001b[1;33m\u001b[0m\u001b[0m\n\u001b[0;32m    360\u001b[0m         \u001b[1;32melse\u001b[0m\u001b[1;33m:\u001b[0m\u001b[1;33m\u001b[0m\u001b[1;33m\u001b[0m\u001b[0m\n\u001b[1;32m--> 361\u001b[1;33m             result = self._request_wrapper(\n\u001b[0m\u001b[0;32m    362\u001b[0m                 \u001b[1;34m'POST'\u001b[0m\u001b[1;33m,\u001b[0m\u001b[1;33m\u001b[0m\u001b[1;33m\u001b[0m\u001b[0m\n\u001b[0;32m    363\u001b[0m                 \u001b[0murl\u001b[0m\u001b[1;33m,\u001b[0m\u001b[1;33m\u001b[0m\u001b[1;33m\u001b[0m\u001b[0m\n",
      "\u001b[1;32mc:\\Users\\USER\\AppData\\Local\\Programs\\Python\\Python310\\lib\\site-packages\\telegram\\utils\\request.py\u001b[0m in \u001b[0;36m_request_wrapper\u001b[1;34m(self, *args, **kwargs)\u001b[0m\n\u001b[0;32m    263\u001b[0m             \u001b[1;31m# HTTPError must come last as its the base urllib3 exception class\u001b[0m\u001b[1;33m\u001b[0m\u001b[1;33m\u001b[0m\u001b[0m\n\u001b[0;32m    264\u001b[0m             \u001b[1;31m# TODO: do something smart here; for now just raise NetworkError\u001b[0m\u001b[1;33m\u001b[0m\u001b[1;33m\u001b[0m\u001b[0m\n\u001b[1;32m--> 265\u001b[1;33m             \u001b[1;32mraise\u001b[0m \u001b[0mNetworkError\u001b[0m\u001b[1;33m(\u001b[0m\u001b[1;34mf'urllib3 HTTPError {error}'\u001b[0m\u001b[1;33m)\u001b[0m \u001b[1;32mfrom\u001b[0m \u001b[0merror\u001b[0m\u001b[1;33m\u001b[0m\u001b[1;33m\u001b[0m\u001b[0m\n\u001b[0m\u001b[0;32m    266\u001b[0m \u001b[1;33m\u001b[0m\u001b[0m\n\u001b[0;32m    267\u001b[0m         \u001b[1;32mif\u001b[0m \u001b[1;36m200\u001b[0m \u001b[1;33m<=\u001b[0m \u001b[0mresp\u001b[0m\u001b[1;33m.\u001b[0m\u001b[0mstatus\u001b[0m \u001b[1;33m<=\u001b[0m \u001b[1;36m299\u001b[0m\u001b[1;33m:\u001b[0m\u001b[1;33m\u001b[0m\u001b[1;33m\u001b[0m\u001b[0m\n",
      "\u001b[1;31mNetworkError\u001b[0m: urllib3 HTTPError EOF occurred in violation of protocol (_ssl.c:997)"
     ]
    }
   ],
   "source": [
    "tele_bot.sendMessage(chat_id = '5559539231', text=\"시 여정이 예매되었습니다.\\n\"+\"KTX 예약화면을 확인하세요..!!\")"
   ]
  }
 ],
 "metadata": {
  "kernelspec": {
   "display_name": "Python 3.10.0 64-bit",
   "language": "python",
   "name": "python3"
  },
  "language_info": {
   "codemirror_mode": {
    "name": "ipython",
    "version": 3
   },
   "file_extension": ".py",
   "mimetype": "text/x-python",
   "name": "python",
   "nbconvert_exporter": "python",
   "pygments_lexer": "ipython3",
   "version": "3.10.0"
  },
  "orig_nbformat": 4,
  "vscode": {
   "interpreter": {
    "hash": "df95319d8ce4e1d89f5365ae10992bc1f65da593082b1d264e8f529830ec2f02"
   }
  }
 },
 "nbformat": 4,
 "nbformat_minor": 2
}
