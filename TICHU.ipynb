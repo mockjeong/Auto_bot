{
 "cells": [
  {
   "cell_type": "code",
   "execution_count": 1,
   "metadata": {},
   "outputs": [],
   "source": [
    "import warnings\n",
    "warnings.filterwarnings(action='ignore')\n",
    "import selenium\n",
    "from selenium import webdriver\n",
    "import time\n",
    "\n",
    "import urllib.request\n",
    "month = {'Jan':'01', 'Feb':'02', 'Mar':'03', 'Apr':'04', 'May':'05', 'Jun':'06', \n",
    "    'Jul':'07', 'Aug':'08', 'Sep':'09', 'Oct':'10', 'Nov':'11', 'Dec':'12'}"
   ]
  },
  {
   "cell_type": "code",
   "execution_count": 2,
   "metadata": {},
   "outputs": [],
   "source": [
    "## 로그인 ID/PW 기록 (일단 내 아이디)\n",
    "login_id = 'neck975'\n",
    "login_pw = 'wjdahr11'"
   ]
  },
  {
   "cell_type": "code",
   "execution_count": 3,
   "metadata": {},
   "outputs": [],
   "source": [
    "## Chrome Driver 경로 지정\n",
    "driverPath = r\"chromedriver.exe\" \n",
    "options = webdriver.ChromeOptions()\n",
    "options.add_experimental_option(\"excludeSwitches\", [\"enable-logging\"])\n",
    "driver = webdriver.Chrome(driverPath, options=options) \n",
    "driver.implicitly_wait(4)\n",
    "\n",
    "##yes24티켓 접속\n",
    "driver.get('http://ticket.yes24.com/') \n",
    "time.sleep(1)"
   ]
  },
  {
   "cell_type": "code",
   "execution_count": 4,
   "metadata": {},
   "outputs": [],
   "source": [
    "##콘서트 버튼 클릭\n",
    "driver.find_element(\"xpath\",\"/html/body/form/div[6]/header/div[3]/h2[1]/a\").click()\n",
    "time.sleep(1)\n",
    "##로그인 버튼 클릭\n",
    "driver.find_element(\"xpath\",\"/html/body/div[4]/div/div[2]/a[1]\").click()\n",
    "time.sleep(1)\n",
    "#ID/PW 입력 및 로그인\n",
    "driver.find_element(\"name\",'SMemberID').send_keys(login_id)\n",
    "time.sleep(1)\n",
    "driver.find_element(\"name\",'SMemberPassword').send_keys(login_pw)\n",
    "time.sleep(1)\n",
    "driver.find_element(\"xpath\",\"/html/body/div[1]/div[2]/div/div[1]/div[2]/form/fieldset/button/span/em\").click()\n",
    "time.sleep(1)"
   ]
  },
  {
   "cell_type": "code",
   "execution_count": 5,
   "metadata": {},
   "outputs": [],
   "source": [
    "##테스트 페이지 이동(장윤정)\n",
    "driver.get('http://ticket.yes24.com/Perf/43148')\n",
    "# driver.get('http://ticket.yes24.com/Perf/42569?Gcode=009_400')\n",
    "time.sleep(1)"
   ]
  },
  {
   "cell_type": "code",
   "execution_count": 7,
   "metadata": {},
   "outputs": [
    {
     "name": "stdout",
     "output_type": "stream",
     "text": [
      "최초 로그인 시간 : 8월 11일 15시 33분 9초\n",
      "현재 [http://ticket.yes24.com]의 서버시간 8월 11일 15시 33분 9초\n",
      "현재 [http://ticket.yes24.com]의 서버시간 8월 11일 15시 33분 9초\n",
      "현재 [http://ticket.yes24.com]의 서버시간 8월 11일 15시 33분 11초\n",
      "현재 [http://ticket.yes24.com]의 서버시간 8월 11일 15시 33분 11초\n",
      "현재 [http://ticket.yes24.com]의 서버시간 8월 11일 15시 33분 12초\n",
      "현재 [http://ticket.yes24.com]의 서버시간 8월 11일 15시 33분 12초\n",
      "현재 [http://ticket.yes24.com]의 서버시간 8월 11일 15시 33분 13초\n",
      "현재 [http://ticket.yes24.com]의 서버시간 8월 11일 15시 33분 13초\n",
      "현재 [http://ticket.yes24.com]의 서버시간 8월 11일 15시 33분 14초\n",
      "현재 [http://ticket.yes24.com]의 서버시간 8월 11일 15시 33분 14초\n",
      "현재 [http://ticket.yes24.com]의 서버시간 8월 11일 15시 33분 15초\n",
      "현재 [http://ticket.yes24.com]의 서버시간 8월 11일 15시 33분 15초\n",
      "현재 [http://ticket.yes24.com]의 서버시간 8월 11일 15시 33분 16초\n",
      "현재 [http://ticket.yes24.com]의 서버시간 8월 11일 15시 33분 16초\n",
      "현재 [http://ticket.yes24.com]의 서버시간 8월 11일 15시 33분 17초\n",
      "현재 [http://ticket.yes24.com]의 서버시간 8월 11일 15시 33분 17초\n",
      "현재 [http://ticket.yes24.com]의 서버시간 8월 11일 15시 33분 18초\n",
      "현재 [http://ticket.yes24.com]의 서버시간 8월 11일 15시 33분 18초\n",
      "현재 [http://ticket.yes24.com]의 서버시간 8월 11일 15시 33분 19초\n",
      "현재 [http://ticket.yes24.com]의 서버시간 8월 11일 15시 33분 19초\n",
      "현재 [http://ticket.yes24.com]의 서버시간 8월 11일 15시 33분 20초\n",
      "현재 [http://ticket.yes24.com]의 서버시간 8월 11일 15시 33분 21초\n",
      "현재 [http://ticket.yes24.com]의 서버시간 8월 11일 15시 33분 21초\n",
      "현재 [http://ticket.yes24.com]의 서버시간 8월 11일 15시 33분 22초\n",
      "현재 [http://ticket.yes24.com]의 서버시간 8월 11일 15시 33분 22초\n",
      "현재 [http://ticket.yes24.com]의 서버시간 8월 11일 15시 33분 23초\n",
      "현재 [http://ticket.yes24.com]의 서버시간 8월 11일 15시 33분 23초\n",
      "현재 [http://ticket.yes24.com]의 서버시간 8월 11일 15시 33분 24초\n",
      "현재 [http://ticket.yes24.com]의 서버시간 8월 11일 15시 33분 24초\n",
      "현재 [http://ticket.yes24.com]의 서버시간 8월 11일 15시 33분 25초\n",
      "현재 [http://ticket.yes24.com]의 서버시간 8월 11일 15시 33분 25초\n",
      "현재 [http://ticket.yes24.com]의 서버시간 8월 11일 15시 33분 26초\n",
      "현재 [http://ticket.yes24.com]의 서버시간 8월 11일 15시 33분 27초\n",
      "현재 [http://ticket.yes24.com]의 서버시간 8월 11일 15시 33분 27초\n",
      "현재 [http://ticket.yes24.com]의 서버시간 8월 11일 15시 33분 28초\n",
      "현재 [http://ticket.yes24.com]의 서버시간 8월 11일 15시 33분 28초\n",
      "현재 [http://ticket.yes24.com]의 서버시간 8월 11일 15시 33분 29초\n",
      "현재 [http://ticket.yes24.com]의 서버시간 8월 11일 15시 33분 29초\n",
      "현재 [http://ticket.yes24.com]의 서버시간 8월 11일 15시 33분 30초\n",
      "현재 [http://ticket.yes24.com]의 서버시간 8월 11일 15시 33분 30초\n",
      "현재 [http://ticket.yes24.com]의 서버시간 8월 11일 15시 33분 31초\n",
      "현재 [http://ticket.yes24.com]의 서버시간 8월 11일 15시 33분 31초\n",
      "현재 [http://ticket.yes24.com]의 서버시간 8월 11일 15시 33분 32초\n",
      "현재 [http://ticket.yes24.com]의 서버시간 8월 11일 15시 33분 32초\n",
      "현재 [http://ticket.yes24.com]의 서버시간 8월 11일 15시 33분 33초\n",
      "현재 [http://ticket.yes24.com]의 서버시간 8월 11일 15시 33분 33초\n",
      "현재 [http://ticket.yes24.com]의 서버시간 8월 11일 15시 33분 34초\n",
      "현재 [http://ticket.yes24.com]의 서버시간 8월 11일 15시 33분 34초\n",
      "현재 [http://ticket.yes24.com]의 서버시간 8월 11일 15시 33분 35초\n",
      "현재 [http://ticket.yes24.com]의 서버시간 8월 11일 15시 33분 35초\n",
      "현재 [http://ticket.yes24.com]의 서버시간 8월 11일 15시 33분 36초\n",
      "현재 [http://ticket.yes24.com]의 서버시간 8월 11일 15시 33분 36초\n",
      "현재 [http://ticket.yes24.com]의 서버시간 8월 11일 15시 33분 37초\n",
      "현재 [http://ticket.yes24.com]의 서버시간 8월 11일 15시 33분 38초\n",
      "현재 [http://ticket.yes24.com]의 서버시간 8월 11일 15시 33분 38초\n",
      "현재 [http://ticket.yes24.com]의 서버시간 8월 11일 15시 33분 39초\n",
      "현재 [http://ticket.yes24.com]의 서버시간 8월 11일 15시 33분 39초\n",
      "현재 [http://ticket.yes24.com]의 서버시간 8월 11일 15시 33분 40초\n",
      "현재 [http://ticket.yes24.com]의 서버시간 8월 11일 15시 33분 40초\n",
      "현재 [http://ticket.yes24.com]의 서버시간 8월 11일 15시 33분 41초\n",
      "현재 [http://ticket.yes24.com]의 서버시간 8월 11일 15시 33분 41초\n",
      "현재 [http://ticket.yes24.com]의 서버시간 8월 11일 15시 33분 42초\n",
      "현재 [http://ticket.yes24.com]의 서버시간 8월 11일 15시 33분 42초\n",
      "현재 [http://ticket.yes24.com]의 서버시간 8월 11일 15시 33분 43초\n",
      "현재 [http://ticket.yes24.com]의 서버시간 8월 11일 15시 33분 43초\n",
      "현재 [http://ticket.yes24.com]의 서버시간 8월 11일 15시 33분 44초\n",
      "현재 [http://ticket.yes24.com]의 서버시간 8월 11일 15시 33분 44초\n",
      "현재 [http://ticket.yes24.com]의 서버시간 8월 11일 15시 33분 45초\n",
      "현재 [http://ticket.yes24.com]의 서버시간 8월 11일 15시 33분 45초\n",
      "현재 [http://ticket.yes24.com]의 서버시간 8월 11일 15시 33분 46초\n",
      "현재 [http://ticket.yes24.com]의 서버시간 8월 11일 15시 33분 46초\n",
      "현재 [http://ticket.yes24.com]의 서버시간 8월 11일 15시 33분 47초\n",
      "현재 [http://ticket.yes24.com]의 서버시간 8월 11일 15시 33분 47초\n",
      "현재 [http://ticket.yes24.com]의 서버시간 8월 11일 15시 33분 48초\n",
      "현재 [http://ticket.yes24.com]의 서버시간 8월 11일 15시 33분 48초\n",
      "현재 [http://ticket.yes24.com]의 서버시간 8월 11일 15시 33분 49초\n",
      "현재 [http://ticket.yes24.com]의 서버시간 8월 11일 15시 33분 50초\n",
      "현재 [http://ticket.yes24.com]의 서버시간 8월 11일 15시 33분 50초\n",
      "현재 [http://ticket.yes24.com]의 서버시간 8월 11일 15시 33분 51초\n",
      "현재 [http://ticket.yes24.com]의 서버시간 8월 11일 15시 33분 51초\n",
      "현재 [http://ticket.yes24.com]의 서버시간 8월 11일 15시 33분 52초\n",
      "현재 [http://ticket.yes24.com]의 서버시간 8월 11일 15시 33분 52초\n",
      "현재 [http://ticket.yes24.com]의 서버시간 8월 11일 15시 33분 53초\n",
      "현재 [http://ticket.yes24.com]의 서버시간 8월 11일 15시 33분 53초\n",
      "현재 [http://ticket.yes24.com]의 서버시간 8월 11일 15시 33분 54초\n",
      "현재 [http://ticket.yes24.com]의 서버시간 8월 11일 15시 33분 54초\n",
      "현재 [http://ticket.yes24.com]의 서버시간 8월 11일 15시 33분 55초\n",
      "현재 [http://ticket.yes24.com]의 서버시간 8월 11일 15시 33분 55초\n",
      "현재 [http://ticket.yes24.com]의 서버시간 8월 11일 15시 33분 56초\n",
      "현재 [http://ticket.yes24.com]의 서버시간 8월 11일 15시 33분 56초\n",
      "현재 [http://ticket.yes24.com]의 서버시간 8월 11일 15시 33분 57초\n",
      "현재 [http://ticket.yes24.com]의 서버시간 8월 11일 15시 33분 58초\n",
      "현재 [http://ticket.yes24.com]의 서버시간 8월 11일 15시 33분 58초\n",
      "현재 [http://ticket.yes24.com]의 서버시간 8월 11일 15시 33분 59초\n",
      "클릭시간 : 8월 11일 15시 34분 1초\n"
     ]
    }
   ],
   "source": [
    "target_mon = 8\n",
    "target_day = 11\n",
    "target_hour = 15\n",
    "target_min = 33\n",
    "target_sec = 59\n",
    "progress = 0\n",
    "\n",
    "## 최초 로그인 시간 확인\n",
    "url = 'http://ticket.yes24.com'\n",
    "date = urllib.request.urlopen(url).headers['Date'][5:-4]\n",
    "day, mon, hour, min, sec = int(date[:2]), int(month[date[3:6]]), int(date[12:14])+9, int(date[15:17]), int(date[18:])\n",
    "if (hour>24):\n",
    "    hour -=hour\n",
    "print(f'최초 로그인 시간 : {mon}월 {day}일 {hour}시 {min}분 {sec}초')\n",
    "\n",
    "while progress == 0 :\n",
    "    if (mon==target_mon) and (day==target_day) and (hour==target_hour) and (min==target_min) and (sec==target_sec) :\n",
    "        time.sleep(0.5)\n",
    "        driver.refresh()\n",
    "        driver.implicitly_wait(60)      ##페이지 새로고침 후 최대 60초까지 대기\n",
    "        try:\n",
    "            ## 예매하기 버튼 클릭\n",
    "            driver.find_element(\"xpath\",\"/html/body/form/div[10]/div/div[4]/a[4]\").click()\n",
    "            ## 예매 버튼 클릭 시간 확인\n",
    "            date = urllib.request.urlopen(url).headers['Date'][5:-4]\n",
    "            day, mon, hour, min, sec = int(date[:2]), int(month[date[3:6]]), int(date[12:14])+9, int(date[15:17]), int(date[18:])\n",
    "            if (hour>24):\n",
    "                hour -=hour\n",
    "            print(f'클릭시간 : {mon}월 {day}일 {hour}시 {min}분 {sec}초')\n",
    "            progress = 1\n",
    "        except:\n",
    "            pass\n",
    "    else:\n",
    "        date = urllib.request.urlopen(url).headers['Date'][5:-4]\n",
    "        day, mon, hour, min, sec = int(date[:2]), int(month[date[3:6]]), int(date[12:14])+9, int(date[15:17]), int(date[18:])\n",
    "        if (hour>24):\n",
    "            hour -=hour\n",
    "        time.sleep(0.5)\n",
    "        print(f'현재 [{url}]의 서버시간 {mon}월 {day}일 {hour}시 {min}분 {sec}초')\n"
   ]
  },
  {
   "cell_type": "code",
   "execution_count": 8,
   "metadata": {},
   "outputs": [
    {
     "ename": "KeyboardInterrupt",
     "evalue": "",
     "output_type": "error",
     "traceback": [
      "\u001b[1;31m---------------------------------------------------------------------------\u001b[0m",
      "\u001b[1;31mKeyboardInterrupt\u001b[0m                         Traceback (most recent call last)",
      "\u001b[1;32mC:\\TEMP/ipykernel_24480/503994683.py\u001b[0m in \u001b[0;36m<module>\u001b[1;34m\u001b[0m\n\u001b[1;32m----> 1\u001b[1;33m \u001b[1;32mwhile\u001b[0m\u001b[1;33m(\u001b[0m\u001b[1;32mTrue\u001b[0m\u001b[1;33m)\u001b[0m\u001b[1;33m:\u001b[0m\u001b[1;33m\u001b[0m\u001b[1;33m\u001b[0m\u001b[0m\n\u001b[0m\u001b[0;32m      2\u001b[0m     \u001b[1;32mpass\u001b[0m\u001b[1;33m\u001b[0m\u001b[1;33m\u001b[0m\u001b[0m\n",
      "\u001b[1;31mKeyboardInterrupt\u001b[0m: "
     ]
    }
   ],
   "source": [
    "while(True):\n",
    "    pass\n"
   ]
  },
  {
   "cell_type": "code",
   "execution_count": null,
   "metadata": {},
   "outputs": [],
   "source": [
    "## 수정 필요 사항\n",
    "\n",
    "# 1. Selenium 드라이버 업데이트로 인한 명령 변경 (이전에 있던것도 수정 필요)\n",
    "# 2. 다중 접속 및 시간 지연에 대한 처리 보완 (59.6~60.0초 시 티켓팅 가능하도록)\n",
    "# 3. 자동완성으로 인한 로그인 불가 문제 발생 (시간을 두고 키면 문제 발생 안하는듯..)\n",
    "# 4. 시간 차를 두고 여러 개의 프로그램이 한꺼번에 돌아가도록 세팅"
   ]
  },
  {
   "cell_type": "code",
   "execution_count": 5,
   "metadata": {},
   "outputs": [],
   "source": [
    "import telegram\n",
    "telgm_token = '5523286949:AAH-dLh7miR9gU9aMrGUZHOOLiuRlWHm0q4'\n",
    "tele_bot = telegram.Bot(token = telgm_token)"
   ]
  },
  {
   "cell_type": "code",
   "execution_count": 7,
   "metadata": {},
   "outputs": [
    {
     "ename": "NetworkError",
     "evalue": "urllib3 HTTPError EOF occurred in violation of protocol (_ssl.c:997)",
     "output_type": "error",
     "traceback": [
      "\u001b[1;31m---------------------------------------------------------------------------\u001b[0m",
      "\u001b[1;31mSSLEOFError\u001b[0m                               Traceback (most recent call last)",
      "\u001b[1;32mc:\\Users\\USER\\AppData\\Local\\Programs\\Python\\Python310\\lib\\site-packages\\telegram\\vendor\\ptb_urllib3\\urllib3\\connectionpool.py\u001b[0m in \u001b[0;36murlopen\u001b[1;34m(self, method, url, body, headers, retries, redirect, assert_same_host, timeout, pool_timeout, release_conn, chunked, body_pos, **response_kw)\u001b[0m\n\u001b[0;32m    613\u001b[0m             \u001b[1;31m# Make the request on the httplib connection object.\u001b[0m\u001b[1;33m\u001b[0m\u001b[1;33m\u001b[0m\u001b[0m\n\u001b[1;32m--> 614\u001b[1;33m             httplib_response = self._make_request(conn, method, url,\n\u001b[0m\u001b[0;32m    615\u001b[0m                                                   \u001b[0mtimeout\u001b[0m\u001b[1;33m=\u001b[0m\u001b[0mtimeout_obj\u001b[0m\u001b[1;33m,\u001b[0m\u001b[1;33m\u001b[0m\u001b[1;33m\u001b[0m\u001b[0m\n",
      "\u001b[1;32mc:\\Users\\USER\\AppData\\Local\\Programs\\Python\\Python310\\lib\\site-packages\\telegram\\vendor\\ptb_urllib3\\urllib3\\connectionpool.py\u001b[0m in \u001b[0;36m_make_request\u001b[1;34m(self, conn, method, url, timeout, chunked, **httplib_request_kw)\u001b[0m\n\u001b[0;32m    359\u001b[0m         \u001b[1;32mtry\u001b[0m\u001b[1;33m:\u001b[0m\u001b[1;33m\u001b[0m\u001b[1;33m\u001b[0m\u001b[0m\n\u001b[1;32m--> 360\u001b[1;33m             \u001b[0mself\u001b[0m\u001b[1;33m.\u001b[0m\u001b[0m_validate_conn\u001b[0m\u001b[1;33m(\u001b[0m\u001b[0mconn\u001b[0m\u001b[1;33m)\u001b[0m\u001b[1;33m\u001b[0m\u001b[1;33m\u001b[0m\u001b[0m\n\u001b[0m\u001b[0;32m    361\u001b[0m         \u001b[1;32mexcept\u001b[0m \u001b[1;33m(\u001b[0m\u001b[0mSocketTimeout\u001b[0m\u001b[1;33m,\u001b[0m \u001b[0mBaseSSLError\u001b[0m\u001b[1;33m)\u001b[0m \u001b[1;32mas\u001b[0m \u001b[0me\u001b[0m\u001b[1;33m:\u001b[0m\u001b[1;33m\u001b[0m\u001b[1;33m\u001b[0m\u001b[0m\n",
      "\u001b[1;32mc:\\Users\\USER\\AppData\\Local\\Programs\\Python\\Python310\\lib\\site-packages\\telegram\\vendor\\ptb_urllib3\\urllib3\\connectionpool.py\u001b[0m in \u001b[0;36m_validate_conn\u001b[1;34m(self, conn)\u001b[0m\n\u001b[0;32m    856\u001b[0m         \"\"\"\n\u001b[1;32m--> 857\u001b[1;33m         \u001b[0msuper\u001b[0m\u001b[1;33m(\u001b[0m\u001b[0mHTTPSConnectionPool\u001b[0m\u001b[1;33m,\u001b[0m \u001b[0mself\u001b[0m\u001b[1;33m)\u001b[0m\u001b[1;33m.\u001b[0m\u001b[0m_validate_conn\u001b[0m\u001b[1;33m(\u001b[0m\u001b[0mconn\u001b[0m\u001b[1;33m)\u001b[0m\u001b[1;33m\u001b[0m\u001b[1;33m\u001b[0m\u001b[0m\n\u001b[0m\u001b[0;32m    858\u001b[0m \u001b[1;33m\u001b[0m\u001b[0m\n",
      "\u001b[1;32mc:\\Users\\USER\\AppData\\Local\\Programs\\Python\\Python310\\lib\\site-packages\\telegram\\vendor\\ptb_urllib3\\urllib3\\connectionpool.py\u001b[0m in \u001b[0;36m_validate_conn\u001b[1;34m(self, conn)\u001b[0m\n\u001b[0;32m    288\u001b[0m         \u001b[1;32mif\u001b[0m \u001b[1;32mnot\u001b[0m \u001b[0mgetattr\u001b[0m\u001b[1;33m(\u001b[0m\u001b[0mconn\u001b[0m\u001b[1;33m,\u001b[0m \u001b[1;34m'sock'\u001b[0m\u001b[1;33m,\u001b[0m \u001b[1;32mNone\u001b[0m\u001b[1;33m)\u001b[0m\u001b[1;33m:\u001b[0m  \u001b[1;31m# AppEngine might not have  `.sock`\u001b[0m\u001b[1;33m\u001b[0m\u001b[1;33m\u001b[0m\u001b[0m\n\u001b[1;32m--> 289\u001b[1;33m             \u001b[0mconn\u001b[0m\u001b[1;33m.\u001b[0m\u001b[0mconnect\u001b[0m\u001b[1;33m(\u001b[0m\u001b[1;33m)\u001b[0m\u001b[1;33m\u001b[0m\u001b[1;33m\u001b[0m\u001b[0m\n\u001b[0m\u001b[0;32m    290\u001b[0m \u001b[1;33m\u001b[0m\u001b[0m\n",
      "\u001b[1;32mc:\\Users\\USER\\AppData\\Local\\Programs\\Python\\Python310\\lib\\site-packages\\telegram\\vendor\\ptb_urllib3\\urllib3\\connection.py\u001b[0m in \u001b[0;36mconnect\u001b[1;34m(self)\u001b[0m\n\u001b[0;32m    318\u001b[0m         \u001b[0mcontext\u001b[0m\u001b[1;33m.\u001b[0m\u001b[0mverify_mode\u001b[0m \u001b[1;33m=\u001b[0m \u001b[0mresolve_cert_reqs\u001b[0m\u001b[1;33m(\u001b[0m\u001b[0mself\u001b[0m\u001b[1;33m.\u001b[0m\u001b[0mcert_reqs\u001b[0m\u001b[1;33m)\u001b[0m\u001b[1;33m\u001b[0m\u001b[1;33m\u001b[0m\u001b[0m\n\u001b[1;32m--> 319\u001b[1;33m         self.sock = ssl_wrap_socket(\n\u001b[0m\u001b[0;32m    320\u001b[0m             \u001b[0msock\u001b[0m\u001b[1;33m=\u001b[0m\u001b[0mconn\u001b[0m\u001b[1;33m,\u001b[0m\u001b[1;33m\u001b[0m\u001b[1;33m\u001b[0m\u001b[0m\n",
      "\u001b[1;32mc:\\Users\\USER\\AppData\\Local\\Programs\\Python\\Python310\\lib\\site-packages\\telegram\\vendor\\ptb_urllib3\\urllib3\\util\\ssl_.py\u001b[0m in \u001b[0;36mssl_wrap_socket\u001b[1;34m(sock, keyfile, certfile, cert_reqs, ca_certs, server_hostname, ssl_version, ciphers, ssl_context, ca_cert_dir)\u001b[0m\n\u001b[0;32m    323\u001b[0m     \u001b[1;32mif\u001b[0m \u001b[0mHAS_SNI\u001b[0m\u001b[1;33m:\u001b[0m  \u001b[1;31m# Platform-specific: OpenSSL with enabled SNI\u001b[0m\u001b[1;33m\u001b[0m\u001b[1;33m\u001b[0m\u001b[0m\n\u001b[1;32m--> 324\u001b[1;33m         \u001b[1;32mreturn\u001b[0m \u001b[0mcontext\u001b[0m\u001b[1;33m.\u001b[0m\u001b[0mwrap_socket\u001b[0m\u001b[1;33m(\u001b[0m\u001b[0msock\u001b[0m\u001b[1;33m,\u001b[0m \u001b[0mserver_hostname\u001b[0m\u001b[1;33m=\u001b[0m\u001b[0mserver_hostname\u001b[0m\u001b[1;33m)\u001b[0m\u001b[1;33m\u001b[0m\u001b[1;33m\u001b[0m\u001b[0m\n\u001b[0m\u001b[0;32m    325\u001b[0m \u001b[1;33m\u001b[0m\u001b[0m\n",
      "\u001b[1;32mc:\\Users\\USER\\AppData\\Local\\Programs\\Python\\Python310\\lib\\ssl.py\u001b[0m in \u001b[0;36mwrap_socket\u001b[1;34m(self, sock, server_side, do_handshake_on_connect, suppress_ragged_eofs, server_hostname, session)\u001b[0m\n\u001b[0;32m    511\u001b[0m         \u001b[1;31m# ctx._wrap_socket()\u001b[0m\u001b[1;33m\u001b[0m\u001b[1;33m\u001b[0m\u001b[0m\n\u001b[1;32m--> 512\u001b[1;33m         return self.sslsocket_class._create(\n\u001b[0m\u001b[0;32m    513\u001b[0m             \u001b[0msock\u001b[0m\u001b[1;33m=\u001b[0m\u001b[0msock\u001b[0m\u001b[1;33m,\u001b[0m\u001b[1;33m\u001b[0m\u001b[1;33m\u001b[0m\u001b[0m\n",
      "\u001b[1;32mc:\\Users\\USER\\AppData\\Local\\Programs\\Python\\Python310\\lib\\ssl.py\u001b[0m in \u001b[0;36m_create\u001b[1;34m(cls, sock, server_side, do_handshake_on_connect, suppress_ragged_eofs, server_hostname, context, session)\u001b[0m\n\u001b[0;32m   1069\u001b[0m                         \u001b[1;32mraise\u001b[0m \u001b[0mValueError\u001b[0m\u001b[1;33m(\u001b[0m\u001b[1;34m\"do_handshake_on_connect should not be specified for non-blocking sockets\"\u001b[0m\u001b[1;33m)\u001b[0m\u001b[1;33m\u001b[0m\u001b[1;33m\u001b[0m\u001b[0m\n\u001b[1;32m-> 1070\u001b[1;33m                     \u001b[0mself\u001b[0m\u001b[1;33m.\u001b[0m\u001b[0mdo_handshake\u001b[0m\u001b[1;33m(\u001b[0m\u001b[1;33m)\u001b[0m\u001b[1;33m\u001b[0m\u001b[1;33m\u001b[0m\u001b[0m\n\u001b[0m\u001b[0;32m   1071\u001b[0m             \u001b[1;32mexcept\u001b[0m \u001b[1;33m(\u001b[0m\u001b[0mOSError\u001b[0m\u001b[1;33m,\u001b[0m \u001b[0mValueError\u001b[0m\u001b[1;33m)\u001b[0m\u001b[1;33m:\u001b[0m\u001b[1;33m\u001b[0m\u001b[1;33m\u001b[0m\u001b[0m\n",
      "\u001b[1;32mc:\\Users\\USER\\AppData\\Local\\Programs\\Python\\Python310\\lib\\ssl.py\u001b[0m in \u001b[0;36mdo_handshake\u001b[1;34m(self, block)\u001b[0m\n\u001b[0;32m   1340\u001b[0m                 \u001b[0mself\u001b[0m\u001b[1;33m.\u001b[0m\u001b[0msettimeout\u001b[0m\u001b[1;33m(\u001b[0m\u001b[1;32mNone\u001b[0m\u001b[1;33m)\u001b[0m\u001b[1;33m\u001b[0m\u001b[1;33m\u001b[0m\u001b[0m\n\u001b[1;32m-> 1341\u001b[1;33m             \u001b[0mself\u001b[0m\u001b[1;33m.\u001b[0m\u001b[0m_sslobj\u001b[0m\u001b[1;33m.\u001b[0m\u001b[0mdo_handshake\u001b[0m\u001b[1;33m(\u001b[0m\u001b[1;33m)\u001b[0m\u001b[1;33m\u001b[0m\u001b[1;33m\u001b[0m\u001b[0m\n\u001b[0m\u001b[0;32m   1342\u001b[0m         \u001b[1;32mfinally\u001b[0m\u001b[1;33m:\u001b[0m\u001b[1;33m\u001b[0m\u001b[1;33m\u001b[0m\u001b[0m\n",
      "\u001b[1;31mSSLEOFError\u001b[0m: EOF occurred in violation of protocol (_ssl.c:997)",
      "\nDuring handling of the above exception, another exception occurred:\n",
      "\u001b[1;31mSSLError\u001b[0m                                  Traceback (most recent call last)",
      "\u001b[1;32mc:\\Users\\USER\\AppData\\Local\\Programs\\Python\\Python310\\lib\\site-packages\\telegram\\utils\\request.py\u001b[0m in \u001b[0;36m_request_wrapper\u001b[1;34m(self, *args, **kwargs)\u001b[0m\n\u001b[0;32m    258\u001b[0m         \u001b[1;32mtry\u001b[0m\u001b[1;33m:\u001b[0m\u001b[1;33m\u001b[0m\u001b[1;33m\u001b[0m\u001b[0m\n\u001b[1;32m--> 259\u001b[1;33m             \u001b[0mresp\u001b[0m \u001b[1;33m=\u001b[0m \u001b[0mself\u001b[0m\u001b[1;33m.\u001b[0m\u001b[0m_con_pool\u001b[0m\u001b[1;33m.\u001b[0m\u001b[0mrequest\u001b[0m\u001b[1;33m(\u001b[0m\u001b[1;33m*\u001b[0m\u001b[0margs\u001b[0m\u001b[1;33m,\u001b[0m \u001b[1;33m**\u001b[0m\u001b[0mkwargs\u001b[0m\u001b[1;33m)\u001b[0m\u001b[1;33m\u001b[0m\u001b[1;33m\u001b[0m\u001b[0m\n\u001b[0m\u001b[0;32m    260\u001b[0m         \u001b[1;32mexcept\u001b[0m \u001b[0murllib3\u001b[0m\u001b[1;33m.\u001b[0m\u001b[0mexceptions\u001b[0m\u001b[1;33m.\u001b[0m\u001b[0mTimeoutError\u001b[0m \u001b[1;32mas\u001b[0m \u001b[0merror\u001b[0m\u001b[1;33m:\u001b[0m\u001b[1;33m\u001b[0m\u001b[1;33m\u001b[0m\u001b[0m\n",
      "\u001b[1;32mc:\\Users\\USER\\AppData\\Local\\Programs\\Python\\Python310\\lib\\site-packages\\telegram\\vendor\\ptb_urllib3\\urllib3\\request.py\u001b[0m in \u001b[0;36mrequest\u001b[1;34m(self, method, url, fields, headers, **urlopen_kw)\u001b[0m\n\u001b[0;32m     67\u001b[0m         \u001b[1;32melse\u001b[0m\u001b[1;33m:\u001b[0m\u001b[1;33m\u001b[0m\u001b[1;33m\u001b[0m\u001b[0m\n\u001b[1;32m---> 68\u001b[1;33m             return self.request_encode_body(method, url, fields=fields,\n\u001b[0m\u001b[0;32m     69\u001b[0m                                             \u001b[0mheaders\u001b[0m\u001b[1;33m=\u001b[0m\u001b[0mheaders\u001b[0m\u001b[1;33m,\u001b[0m\u001b[1;33m\u001b[0m\u001b[1;33m\u001b[0m\u001b[0m\n",
      "\u001b[1;32mc:\\Users\\USER\\AppData\\Local\\Programs\\Python\\Python310\\lib\\site-packages\\telegram\\vendor\\ptb_urllib3\\urllib3\\request.py\u001b[0m in \u001b[0;36mrequest_encode_body\u001b[1;34m(self, method, url, fields, headers, encode_multipart, multipart_boundary, **urlopen_kw)\u001b[0m\n\u001b[0;32m    147\u001b[0m \u001b[1;33m\u001b[0m\u001b[0m\n\u001b[1;32m--> 148\u001b[1;33m         \u001b[1;32mreturn\u001b[0m \u001b[0mself\u001b[0m\u001b[1;33m.\u001b[0m\u001b[0murlopen\u001b[0m\u001b[1;33m(\u001b[0m\u001b[0mmethod\u001b[0m\u001b[1;33m,\u001b[0m \u001b[0murl\u001b[0m\u001b[1;33m,\u001b[0m \u001b[1;33m**\u001b[0m\u001b[0mextra_kw\u001b[0m\u001b[1;33m)\u001b[0m\u001b[1;33m\u001b[0m\u001b[1;33m\u001b[0m\u001b[0m\n\u001b[0m",
      "\u001b[1;32mc:\\Users\\USER\\AppData\\Local\\Programs\\Python\\Python310\\lib\\site-packages\\telegram\\vendor\\ptb_urllib3\\urllib3\\poolmanager.py\u001b[0m in \u001b[0;36murlopen\u001b[1;34m(self, method, url, redirect, **kw)\u001b[0m\n\u001b[0;32m    243\u001b[0m         \u001b[1;32melse\u001b[0m\u001b[1;33m:\u001b[0m\u001b[1;33m\u001b[0m\u001b[1;33m\u001b[0m\u001b[0m\n\u001b[1;32m--> 244\u001b[1;33m             \u001b[0mresponse\u001b[0m \u001b[1;33m=\u001b[0m \u001b[0mconn\u001b[0m\u001b[1;33m.\u001b[0m\u001b[0murlopen\u001b[0m\u001b[1;33m(\u001b[0m\u001b[0mmethod\u001b[0m\u001b[1;33m,\u001b[0m \u001b[0mu\u001b[0m\u001b[1;33m.\u001b[0m\u001b[0mrequest_uri\u001b[0m\u001b[1;33m,\u001b[0m \u001b[1;33m**\u001b[0m\u001b[0mkw\u001b[0m\u001b[1;33m)\u001b[0m\u001b[1;33m\u001b[0m\u001b[1;33m\u001b[0m\u001b[0m\n\u001b[0m\u001b[0;32m    245\u001b[0m \u001b[1;33m\u001b[0m\u001b[0m\n",
      "\u001b[1;32mc:\\Users\\USER\\AppData\\Local\\Programs\\Python\\Python310\\lib\\site-packages\\telegram\\vendor\\ptb_urllib3\\urllib3\\connectionpool.py\u001b[0m in \u001b[0;36murlopen\u001b[1;34m(self, method, url, body, headers, retries, redirect, assert_same_host, timeout, pool_timeout, release_conn, chunked, body_pos, **response_kw)\u001b[0m\n\u001b[0;32m    646\u001b[0m             \u001b[0mclean_exit\u001b[0m \u001b[1;33m=\u001b[0m \u001b[1;32mFalse\u001b[0m\u001b[1;33m\u001b[0m\u001b[1;33m\u001b[0m\u001b[0m\n\u001b[1;32m--> 647\u001b[1;33m             \u001b[1;32mraise\u001b[0m \u001b[0mSSLError\u001b[0m\u001b[1;33m(\u001b[0m\u001b[0me\u001b[0m\u001b[1;33m)\u001b[0m\u001b[1;33m\u001b[0m\u001b[1;33m\u001b[0m\u001b[0m\n\u001b[0m\u001b[0;32m    648\u001b[0m \u001b[1;33m\u001b[0m\u001b[0m\n",
      "\u001b[1;31mSSLError\u001b[0m: EOF occurred in violation of protocol (_ssl.c:997)",
      "\nThe above exception was the direct cause of the following exception:\n",
      "\u001b[1;31mNetworkError\u001b[0m                              Traceback (most recent call last)",
      "\u001b[1;32mC:\\TEMP/ipykernel_21912/2488749931.py\u001b[0m in \u001b[0;36m<module>\u001b[1;34m\u001b[0m\n\u001b[1;32m----> 1\u001b[1;33m \u001b[0mtele_bot\u001b[0m\u001b[1;33m.\u001b[0m\u001b[0msendMessage\u001b[0m\u001b[1;33m(\u001b[0m\u001b[0mchat_id\u001b[0m \u001b[1;33m=\u001b[0m \u001b[1;34m'5559539231'\u001b[0m\u001b[1;33m,\u001b[0m \u001b[0mtext\u001b[0m\u001b[1;33m=\u001b[0m\u001b[1;34m\"시 여정이 예매되었습니다.\\n\"\u001b[0m\u001b[1;33m+\u001b[0m\u001b[1;34m\"KTX 예약화면을 확인하세요..!!\"\u001b[0m\u001b[1;33m)\u001b[0m\u001b[1;33m\u001b[0m\u001b[1;33m\u001b[0m\u001b[0m\n\u001b[0m",
      "\u001b[1;32mc:\\Users\\USER\\AppData\\Local\\Programs\\Python\\Python310\\lib\\site-packages\\telegram\\bot.py\u001b[0m in \u001b[0;36mdecorator\u001b[1;34m(*args, **kwargs)\u001b[0m\n\u001b[0;32m    131\u001b[0m     \u001b[1;32mdef\u001b[0m \u001b[0mdecorator\u001b[0m\u001b[1;33m(\u001b[0m\u001b[1;33m*\u001b[0m\u001b[0margs\u001b[0m\u001b[1;33m:\u001b[0m \u001b[0mobject\u001b[0m\u001b[1;33m,\u001b[0m \u001b[1;33m**\u001b[0m\u001b[0mkwargs\u001b[0m\u001b[1;33m:\u001b[0m \u001b[0mobject\u001b[0m\u001b[1;33m)\u001b[0m \u001b[1;33m->\u001b[0m \u001b[0mRT\u001b[0m\u001b[1;33m:\u001b[0m  \u001b[1;31m# pylint: disable=W0613\u001b[0m\u001b[1;33m\u001b[0m\u001b[1;33m\u001b[0m\u001b[0m\n\u001b[0;32m    132\u001b[0m         \u001b[0mlogger\u001b[0m\u001b[1;33m.\u001b[0m\u001b[0mdebug\u001b[0m\u001b[1;33m(\u001b[0m\u001b[1;34m'Entering: %s'\u001b[0m\u001b[1;33m,\u001b[0m \u001b[0mfunc\u001b[0m\u001b[1;33m.\u001b[0m\u001b[0m__name__\u001b[0m\u001b[1;33m)\u001b[0m\u001b[1;33m\u001b[0m\u001b[1;33m\u001b[0m\u001b[0m\n\u001b[1;32m--> 133\u001b[1;33m         \u001b[0mresult\u001b[0m \u001b[1;33m=\u001b[0m \u001b[0mfunc\u001b[0m\u001b[1;33m(\u001b[0m\u001b[1;33m*\u001b[0m\u001b[0margs\u001b[0m\u001b[1;33m,\u001b[0m \u001b[1;33m**\u001b[0m\u001b[0mkwargs\u001b[0m\u001b[1;33m)\u001b[0m\u001b[1;33m\u001b[0m\u001b[1;33m\u001b[0m\u001b[0m\n\u001b[0m\u001b[0;32m    134\u001b[0m         \u001b[0mlogger\u001b[0m\u001b[1;33m.\u001b[0m\u001b[0mdebug\u001b[0m\u001b[1;33m(\u001b[0m\u001b[0mresult\u001b[0m\u001b[1;33m)\u001b[0m\u001b[1;33m\u001b[0m\u001b[1;33m\u001b[0m\u001b[0m\n\u001b[0;32m    135\u001b[0m         \u001b[0mlogger\u001b[0m\u001b[1;33m.\u001b[0m\u001b[0mdebug\u001b[0m\u001b[1;33m(\u001b[0m\u001b[1;34m'Exiting: %s'\u001b[0m\u001b[1;33m,\u001b[0m \u001b[0mfunc\u001b[0m\u001b[1;33m.\u001b[0m\u001b[0m__name__\u001b[0m\u001b[1;33m)\u001b[0m\u001b[1;33m\u001b[0m\u001b[1;33m\u001b[0m\u001b[0m\n",
      "\u001b[1;32mc:\\Users\\USER\\AppData\\Local\\Programs\\Python\\Python310\\lib\\site-packages\\telegram\\bot.py\u001b[0m in \u001b[0;36msend_message\u001b[1;34m(self, chat_id, text, parse_mode, disable_web_page_preview, disable_notification, reply_to_message_id, reply_markup, timeout, api_kwargs, allow_sending_without_reply, entities, protect_content)\u001b[0m\n\u001b[0;32m    523\u001b[0m             \u001b[0mdata\u001b[0m\u001b[1;33m[\u001b[0m\u001b[1;34m'entities'\u001b[0m\u001b[1;33m]\u001b[0m \u001b[1;33m=\u001b[0m \u001b[1;33m[\u001b[0m\u001b[0mme\u001b[0m\u001b[1;33m.\u001b[0m\u001b[0mto_dict\u001b[0m\u001b[1;33m(\u001b[0m\u001b[1;33m)\u001b[0m \u001b[1;32mfor\u001b[0m \u001b[0mme\u001b[0m \u001b[1;32min\u001b[0m \u001b[0mentities\u001b[0m\u001b[1;33m]\u001b[0m\u001b[1;33m\u001b[0m\u001b[1;33m\u001b[0m\u001b[0m\n\u001b[0;32m    524\u001b[0m \u001b[1;33m\u001b[0m\u001b[0m\n\u001b[1;32m--> 525\u001b[1;33m         return self._message(  # type: ignore[return-value]\n\u001b[0m\u001b[0;32m    526\u001b[0m             \u001b[1;34m'sendMessage'\u001b[0m\u001b[1;33m,\u001b[0m\u001b[1;33m\u001b[0m\u001b[1;33m\u001b[0m\u001b[0m\n\u001b[0;32m    527\u001b[0m             \u001b[0mdata\u001b[0m\u001b[1;33m,\u001b[0m\u001b[1;33m\u001b[0m\u001b[1;33m\u001b[0m\u001b[0m\n",
      "\u001b[1;32mc:\\Users\\USER\\AppData\\Local\\Programs\\Python\\Python310\\lib\\site-packages\\telegram\\bot.py\u001b[0m in \u001b[0;36m_message\u001b[1;34m(self, endpoint, data, reply_to_message_id, disable_notification, reply_markup, allow_sending_without_reply, timeout, api_kwargs, protect_content)\u001b[0m\n\u001b[0;32m    337\u001b[0m                 \u001b[0mdata\u001b[0m\u001b[1;33m[\u001b[0m\u001b[1;34m'media'\u001b[0m\u001b[1;33m]\u001b[0m\u001b[1;33m.\u001b[0m\u001b[0mparse_mode\u001b[0m \u001b[1;33m=\u001b[0m \u001b[1;32mNone\u001b[0m\u001b[1;33m\u001b[0m\u001b[1;33m\u001b[0m\u001b[0m\n\u001b[0;32m    338\u001b[0m \u001b[1;33m\u001b[0m\u001b[0m\n\u001b[1;32m--> 339\u001b[1;33m         \u001b[0mresult\u001b[0m \u001b[1;33m=\u001b[0m \u001b[0mself\u001b[0m\u001b[1;33m.\u001b[0m\u001b[0m_post\u001b[0m\u001b[1;33m(\u001b[0m\u001b[0mendpoint\u001b[0m\u001b[1;33m,\u001b[0m \u001b[0mdata\u001b[0m\u001b[1;33m,\u001b[0m \u001b[0mtimeout\u001b[0m\u001b[1;33m=\u001b[0m\u001b[0mtimeout\u001b[0m\u001b[1;33m,\u001b[0m \u001b[0mapi_kwargs\u001b[0m\u001b[1;33m=\u001b[0m\u001b[0mapi_kwargs\u001b[0m\u001b[1;33m)\u001b[0m\u001b[1;33m\u001b[0m\u001b[1;33m\u001b[0m\u001b[0m\n\u001b[0m\u001b[0;32m    340\u001b[0m \u001b[1;33m\u001b[0m\u001b[0m\n\u001b[0;32m    341\u001b[0m         \u001b[1;32mif\u001b[0m \u001b[0mresult\u001b[0m \u001b[1;32mis\u001b[0m \u001b[1;32mTrue\u001b[0m\u001b[1;33m:\u001b[0m\u001b[1;33m\u001b[0m\u001b[1;33m\u001b[0m\u001b[0m\n",
      "\u001b[1;32mc:\\Users\\USER\\AppData\\Local\\Programs\\Python\\Python310\\lib\\site-packages\\telegram\\bot.py\u001b[0m in \u001b[0;36m_post\u001b[1;34m(self, endpoint, data, timeout, api_kwargs)\u001b[0m\n\u001b[0;32m    296\u001b[0m         \u001b[0mdata\u001b[0m \u001b[1;33m=\u001b[0m \u001b[1;33m{\u001b[0m\u001b[0mkey\u001b[0m\u001b[1;33m:\u001b[0m \u001b[0mvalue\u001b[0m \u001b[1;32mfor\u001b[0m \u001b[0mkey\u001b[0m\u001b[1;33m,\u001b[0m \u001b[0mvalue\u001b[0m \u001b[1;32min\u001b[0m \u001b[0mdata\u001b[0m\u001b[1;33m.\u001b[0m\u001b[0mitems\u001b[0m\u001b[1;33m(\u001b[0m\u001b[1;33m)\u001b[0m \u001b[1;32mif\u001b[0m \u001b[0mvalue\u001b[0m \u001b[1;32mis\u001b[0m \u001b[1;32mnot\u001b[0m \u001b[1;32mNone\u001b[0m\u001b[1;33m}\u001b[0m\u001b[1;33m\u001b[0m\u001b[1;33m\u001b[0m\u001b[0m\n\u001b[0;32m    297\u001b[0m \u001b[1;33m\u001b[0m\u001b[0m\n\u001b[1;32m--> 298\u001b[1;33m         return self.request.post(\n\u001b[0m\u001b[0;32m    299\u001b[0m             \u001b[1;34mf'{self.base_url}/{endpoint}'\u001b[0m\u001b[1;33m,\u001b[0m \u001b[0mdata\u001b[0m\u001b[1;33m=\u001b[0m\u001b[0mdata\u001b[0m\u001b[1;33m,\u001b[0m \u001b[0mtimeout\u001b[0m\u001b[1;33m=\u001b[0m\u001b[0meffective_timeout\u001b[0m\u001b[1;33m\u001b[0m\u001b[1;33m\u001b[0m\u001b[0m\n\u001b[0;32m    300\u001b[0m         )\n",
      "\u001b[1;32mc:\\Users\\USER\\AppData\\Local\\Programs\\Python\\Python310\\lib\\site-packages\\telegram\\utils\\request.py\u001b[0m in \u001b[0;36mpost\u001b[1;34m(self, url, data, timeout)\u001b[0m\n\u001b[0;32m    359\u001b[0m             \u001b[0mresult\u001b[0m \u001b[1;33m=\u001b[0m \u001b[0mself\u001b[0m\u001b[1;33m.\u001b[0m\u001b[0m_request_wrapper\u001b[0m\u001b[1;33m(\u001b[0m\u001b[1;34m'POST'\u001b[0m\u001b[1;33m,\u001b[0m \u001b[0murl\u001b[0m\u001b[1;33m,\u001b[0m \u001b[0mfields\u001b[0m\u001b[1;33m=\u001b[0m\u001b[0mdata\u001b[0m\u001b[1;33m,\u001b[0m \u001b[1;33m**\u001b[0m\u001b[0murlopen_kwargs\u001b[0m\u001b[1;33m)\u001b[0m\u001b[1;33m\u001b[0m\u001b[1;33m\u001b[0m\u001b[0m\n\u001b[0;32m    360\u001b[0m         \u001b[1;32melse\u001b[0m\u001b[1;33m:\u001b[0m\u001b[1;33m\u001b[0m\u001b[1;33m\u001b[0m\u001b[0m\n\u001b[1;32m--> 361\u001b[1;33m             result = self._request_wrapper(\n\u001b[0m\u001b[0;32m    362\u001b[0m                 \u001b[1;34m'POST'\u001b[0m\u001b[1;33m,\u001b[0m\u001b[1;33m\u001b[0m\u001b[1;33m\u001b[0m\u001b[0m\n\u001b[0;32m    363\u001b[0m                 \u001b[0murl\u001b[0m\u001b[1;33m,\u001b[0m\u001b[1;33m\u001b[0m\u001b[1;33m\u001b[0m\u001b[0m\n",
      "\u001b[1;32mc:\\Users\\USER\\AppData\\Local\\Programs\\Python\\Python310\\lib\\site-packages\\telegram\\utils\\request.py\u001b[0m in \u001b[0;36m_request_wrapper\u001b[1;34m(self, *args, **kwargs)\u001b[0m\n\u001b[0;32m    263\u001b[0m             \u001b[1;31m# HTTPError must come last as its the base urllib3 exception class\u001b[0m\u001b[1;33m\u001b[0m\u001b[1;33m\u001b[0m\u001b[0m\n\u001b[0;32m    264\u001b[0m             \u001b[1;31m# TODO: do something smart here; for now just raise NetworkError\u001b[0m\u001b[1;33m\u001b[0m\u001b[1;33m\u001b[0m\u001b[0m\n\u001b[1;32m--> 265\u001b[1;33m             \u001b[1;32mraise\u001b[0m \u001b[0mNetworkError\u001b[0m\u001b[1;33m(\u001b[0m\u001b[1;34mf'urllib3 HTTPError {error}'\u001b[0m\u001b[1;33m)\u001b[0m \u001b[1;32mfrom\u001b[0m \u001b[0merror\u001b[0m\u001b[1;33m\u001b[0m\u001b[1;33m\u001b[0m\u001b[0m\n\u001b[0m\u001b[0;32m    266\u001b[0m \u001b[1;33m\u001b[0m\u001b[0m\n\u001b[0;32m    267\u001b[0m         \u001b[1;32mif\u001b[0m \u001b[1;36m200\u001b[0m \u001b[1;33m<=\u001b[0m \u001b[0mresp\u001b[0m\u001b[1;33m.\u001b[0m\u001b[0mstatus\u001b[0m \u001b[1;33m<=\u001b[0m \u001b[1;36m299\u001b[0m\u001b[1;33m:\u001b[0m\u001b[1;33m\u001b[0m\u001b[1;33m\u001b[0m\u001b[0m\n",
      "\u001b[1;31mNetworkError\u001b[0m: urllib3 HTTPError EOF occurred in violation of protocol (_ssl.c:997)"
     ]
    }
   ],
   "source": [
    "tele_bot.sendMessage(chat_id = '5559539231', text=\"시 여정이 예매되었습니다.\\n\"+\"KTX 예약화면을 확인하세요..!!\")"
   ]
  }
 ],
 "metadata": {
  "kernelspec": {
   "display_name": "Python 3.10.0 64-bit",
   "language": "python",
   "name": "python3"
  },
  "language_info": {
   "codemirror_mode": {
    "name": "ipython",
    "version": 3
   },
   "file_extension": ".py",
   "mimetype": "text/x-python",
   "name": "python",
   "nbconvert_exporter": "python",
   "pygments_lexer": "ipython3",
   "version": "3.10.0"
  },
  "orig_nbformat": 4,
  "vscode": {
   "interpreter": {
    "hash": "df95319d8ce4e1d89f5365ae10992bc1f65da593082b1d264e8f529830ec2f02"
   }
  }
 },
 "nbformat": 4,
 "nbformat_minor": 2
}
